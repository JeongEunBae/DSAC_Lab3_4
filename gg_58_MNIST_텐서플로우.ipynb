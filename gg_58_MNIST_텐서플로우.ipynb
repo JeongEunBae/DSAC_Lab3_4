{
 "cells": [
  {
   "cell_type": "markdown",
   "metadata": {
    "colab_type": "text",
    "id": "view-in-github"
   },
   "source": [
    "<a href=\"https://colab.research.google.com/github/StillWork/ds-lab/blob/master/gg_50_MNIST_%ED%85%90%EC%84%9C%ED%94%8C%EB%A1%9C%EC%9A%B0.ipynb\" target=\"_parent\"><img src=\"https://colab.research.google.com/assets/colab-badge.svg\" alt=\"Open In Colab\"/></a>"
   ]
  },
  {
   "cell_type": "code",
   "execution_count": 2,
   "metadata": {
    "colab": {
     "base_uri": "https://localhost:8080/",
     "height": 4200
    },
    "colab_type": "code",
    "id": "T7-pAFnVaM1G",
    "outputId": "f7943130-a0c0-47f6-8778-e0921477be3c"
   },
   "outputs": [
    {
     "name": "stdout",
     "output_type": "stream",
     "text": [
      "Extracting MNIST_data\\train-images-idx3-ubyte.gz\n",
      "Extracting MNIST_data\\train-labels-idx1-ubyte.gz\n",
      "Extracting MNIST_data\\t10k-images-idx3-ubyte.gz\n",
      "Extracting MNIST_data\\t10k-labels-idx1-ubyte.gz\n"
     ]
    }
   ],
   "source": [
    "# 단층 퍼셉트론으로 구축하기\n",
    "# 성능이 80% 정도 나온다\n",
    "import tensorflow as tf\n",
    "from tensorflow.examples.tutorials.mnist import input_data\n",
    "\n",
    "#원핫 인코딩을 선택한다\n",
    "mnist_data = input_data.read_data_sets('MNIST_data', one_hot=True)"
   ]
  },
  {
   "cell_type": "code",
   "execution_count": 44,
   "metadata": {
    "colab": {
     "base_uri": "https://localhost:8080/",
     "height": 4200
    },
    "colab_type": "code",
    "id": "T7-pAFnVaM1G",
    "outputId": "f7943130-a0c0-47f6-8778-e0921477be3c"
   },
   "outputs": [
    {
     "data": {
      "text/plain": [
       "tensorflow.contrib.learn.python.learn.datasets.base.Datasets"
      ]
     },
     "execution_count": 44,
     "metadata": {},
     "output_type": "execute_result"
    }
   ],
   "source": [
    "type(mnist_data)"
   ]
  },
  {
   "cell_type": "code",
   "execution_count": 4,
   "metadata": {
    "colab": {
     "base_uri": "https://localhost:8080/",
     "height": 4200
    },
    "colab_type": "code",
    "id": "T7-pAFnVaM1G",
    "outputId": "f7943130-a0c0-47f6-8778-e0921477be3c"
   },
   "outputs": [
    {
     "name": "stdout",
     "output_type": "stream",
     "text": [
      "WARNING:tensorflow:From C:\\Users\\rta_note\\Anaconda3\\lib\\site-packages\\tensorflow\\python\\framework\\op_def_library.py:263: colocate_with (from tensorflow.python.framework.ops) is deprecated and will be removed in a future version.\n",
      "Instructions for updating:\n",
      "Colocations handled automatically by placer.\n"
     ]
    }
   ],
   "source": [
    "input_size = 784\n",
    "no_classes = 10\n",
    "batch_size = 100\n",
    "total_batches = 200\n",
    "\n",
    "# None은 임의의 크기를 담을 수 있다는 것을 말한다\n",
    "x_input = tf.placeholder(tf.float32, shape=[None, input_size])\n",
    "y_input = tf.placeholder(tf.float32, shape=[None, no_classes])\n",
    "\n",
    "weights = tf.Variable(tf.random_normal([input_size, no_classes]))\n",
    "bias = tf.Variable(tf.random_normal([no_classes]))\n",
    "logits = tf.matmul(x_input, weights) + bias"
   ]
  },
  {
   "cell_type": "code",
   "execution_count": 7,
   "metadata": {},
   "outputs": [
    {
     "data": {
      "text/plain": [
       "(TensorShape([Dimension(None), Dimension(784)]),\n",
       " TensorShape([Dimension(784), Dimension(10)]),\n",
       " TensorShape([Dimension(None), Dimension(10)]))"
      ]
     },
     "execution_count": 7,
     "metadata": {},
     "output_type": "execute_result"
    }
   ],
   "source": [
    "x_input.shape, weights.shape, y_input.shape"
   ]
  },
  {
   "cell_type": "code",
   "execution_count": 8,
   "metadata": {
    "colab": {
     "base_uri": "https://localhost:8080/",
     "height": 4200
    },
    "colab_type": "code",
    "id": "T7-pAFnVaM1G",
    "outputId": "f7943130-a0c0-47f6-8778-e0921477be3c"
   },
   "outputs": [
    {
     "name": "stdout",
     "output_type": "stream",
     "text": [
      "WARNING:tensorflow:From <ipython-input-8-ca9f6b414f10>:6: softmax_cross_entropy_with_logits (from tensorflow.python.ops.nn_ops) is deprecated and will be removed in a future version.\n",
      "Instructions for updating:\n",
      "\n",
      "Future major versions of TensorFlow will allow gradients to flow\n",
      "into the labels input on backprop by default.\n",
      "\n",
      "See `tf.nn.softmax_cross_entropy_with_logits_v2`.\n",
      "\n"
     ]
    }
   ],
   "source": [
    "# 크로스엔트로피와 소프트맥스를 사용한다\n",
    "# 손실함수와, 최적화기를 선택\n",
    "# 학습속도 0.5\n",
    "# softmax_cross_entropy(): Computes softmax cross entropy between logits and labels.\n",
    "softmax_cross_entropy = tf.nn.softmax_cross_entropy_with_logits(\n",
    "    labels=y_input, logits=logits)\n",
    "loss_operation = tf.reduce_mean(softmax_cross_entropy)\n",
    "optimiser = tf.train.GradientDescentOptimizer(\n",
    "    learning_rate=0.5).minimize(loss_operation)\n",
    "\n",
    "# 초기화\n",
    "session = tf.Session()\n",
    "session.run(tf.global_variables_initializer())\n",
    "\n",
    "# 배치 작업 수행 \n",
    "# feed_dict 인자에 훈련 데이터 딕셔너리를 공급\n",
    "for batch_no in range(total_batches):\n",
    "    mnist_batch = mnist_data.train.next_batch(batch_size)\n",
    "    train_images, train_labels = mnist_batch[0], mnist_batch[1]\n",
    "    _, loss_value = session.run([optimiser, loss_operation], feed_dict={\n",
    "        x_input: train_images,\n",
    "        y_input: train_labels\n",
    "    })"
   ]
  },
  {
   "cell_type": "code",
   "execution_count": 9,
   "metadata": {},
   "outputs": [],
   "source": [
    "# weights.shape\n",
    "# session.run(bias)\n",
    "# session.run(weights).shape\n",
    "# x_input.shape, weights.shape, y_input.shape\n",
    "# x_input,  weights, y_input\n",
    "# train_images.shape, train_labels.shape\n",
    "# session.run(logits, feed_dict={x_input: train_images})\n",
    "# session.run(logits, feed_dict={x_input: train_images})"
   ]
  },
  {
   "cell_type": "code",
   "execution_count": 10,
   "metadata": {},
   "outputs": [
    {
     "name": "stdout",
     "output_type": "stream",
     "text": [
      "bias is:  [ 0.34358343 -1.9445122   0.44923887 -0.796643    0.36187997  0.26429063\n",
      " -1.1839765   1.094068   -1.2625928  -0.15602611]\n",
      "weights are:  [[-0.9444775   0.0788077   1.5823524  ... -1.2135105  -1.7233548\n",
      "   0.41759062]\n",
      " [-0.15141462 -1.2825084  -0.5807093  ... -0.4769059   0.09513462\n",
      "  -0.5595411 ]\n",
      " [ 0.5083344   0.39757812 -0.01441983 ...  0.332977    0.4803232\n",
      "   0.60378677]\n",
      " ...\n",
      " [ 1.7573912   1.4240342   0.36368108 ... -1.6863295   1.2776196\n",
      "  -0.48303252]\n",
      " [ 0.7088426   0.89132774  1.5045044  ...  0.04421584 -0.27674192\n",
      "  -1.2953362 ]\n",
      " [ 1.2624115  -0.2700953  -0.00551114 ... -0.36051124 -0.1901838\n",
      "  -0.06977901]]\n",
      "logits are:  [[ 5.50424719e+00 -2.24530506e+00 -8.23649406e+00  3.56332850e+00\n",
      "  -3.34962368e+00  1.47562809e+01 -7.26106787e+00 -3.82548571e+00\n",
      "   5.98326540e+00 -4.80786800e+00]\n",
      " [ 1.81688633e+01 -2.56401329e+01 -1.30547228e+01 -5.32935238e+00\n",
      "  -6.99841642e+00  1.82321796e+01 -9.43886089e+00 -1.38561211e+01\n",
      "   8.70768356e+00 -1.91372089e+01]\n",
      " [ 7.77394009e+00 -1.43836088e+01  1.66918933e+00  1.05878191e+01\n",
      "   4.68166685e+00 -2.33143950e+00 -4.72657013e+00  1.68258038e+01\n",
      "   9.70577240e+00  7.53176880e+00]\n",
      " [-1.04055750e+00 -2.05010986e+01 -6.54439068e+00 -1.00424204e+01\n",
      "  -7.49237537e+00  1.71306915e+01 -1.01176805e+01 -1.69224949e+01\n",
      "   2.88853407e+00  2.31314683e+00]\n",
      " [ 1.78053296e+00 -7.50344515e+00 -5.31045628e+00  5.15843773e+00\n",
      "   6.43563461e+00 -4.00630665e+00 -1.06695776e+01  1.49352150e+01\n",
      "   6.85847712e+00  2.31316543e+00]\n",
      " [ 3.57010484e+00 -1.93249722e+01  7.86689401e-01  2.32347546e+01\n",
      "  -1.02006598e+01  3.30306411e+00 -1.39704762e+01 -8.17546082e+00\n",
      "  -1.22796726e+00 -1.09866018e+01]\n",
      " [-4.51879168e+00 -3.39306164e+00  2.54908295e+01 -1.99497938e+00\n",
      "   4.73690939e+00 -6.10982800e+00  2.40304613e+00 -7.11228800e+00\n",
      "   1.03415604e+01  7.12828255e+00]\n",
      " [-5.58069754e+00 -6.66838646e+00  1.93404408e+01  5.92176628e+00\n",
      "  -7.51479483e+00  2.51537621e-01  1.06741774e+00  4.49862480e+00\n",
      "   1.10677123e-01  2.25467396e+00]\n",
      " [ 3.53148842e+00 -3.52879572e+00  7.84519434e+00 -2.74725437e+00\n",
      "   9.88032222e-01  1.12869334e+00  1.82273064e+01 -5.13595963e+00\n",
      "   2.20706463e+00  5.53724647e-01]\n",
      " [-1.32433252e+01 -5.20349860e-01  1.55882215e+01  9.07181549e+00\n",
      "  -1.88169849e+00  1.80172181e+00  4.18234253e+00 -2.95371532e-01\n",
      "   6.11836672e-01 -1.28388023e+01]\n",
      " [-1.13893785e+01 -1.40056620e+01  6.82448864e+00  1.85643578e+01\n",
      "  -5.30633688e-01 -1.34093118e+00 -3.30508471e+00  8.35220146e+00\n",
      "   1.03918056e+01  1.82412930e+01]\n",
      " [-7.88929415e+00  8.22429776e-01 -4.22248274e-01  2.11153340e+00\n",
      "   8.10843706e-01  4.23039007e+00 -5.44205236e+00 -4.13468838e+00\n",
      "   1.16139164e+01 -6.08919621e-01]\n",
      " [ 1.82693882e+01 -1.42100668e+00  2.37832332e+00 -1.36151195e+00\n",
      "  -1.01615019e+01  2.71256614e+00 -2.20399570e+01  3.22960210e+00\n",
      "   7.99838543e-01 -2.18319798e+00]\n",
      " [ 6.47539794e-02 -3.85224056e+00  4.27813768e+00 -1.73272038e+00\n",
      "   7.49330759e+00 -4.83272314e+00  1.78765564e+01 -1.04373765e+00\n",
      "   7.19937277e+00 -1.17228556e+00]\n",
      " [-1.35164356e+01 -6.73638344e+00 -6.34311736e-02  1.06408186e+01\n",
      "   2.35249949e+00  2.03930545e+00  3.81776571e+00 -5.06883097e+00\n",
      "   8.26650047e+00 -1.14788885e+01]\n",
      " [ 4.78111935e+00 -1.48955984e+01 -1.68032157e+00  1.59258604e+01\n",
      "  -1.03806849e+01 -2.19697785e+00 -4.76405764e+00 -3.08829546e+00\n",
      "   3.11667204e+00 -1.44472933e+01]\n",
      " [ 6.72937536e+00 -1.79504433e+01 -4.73116016e+00  2.99259567e+00\n",
      "  -7.60893536e+00  9.94822407e+00  2.26385880e+00 -1.71653233e+01\n",
      "   2.89421797e+00 -9.42089409e-02]\n",
      " [-4.31699187e-01 -8.07074165e+00  1.11595116e+01  2.36080623e+00\n",
      "  -2.92901635e+00  3.81921244e+00  2.54462051e+01 -1.12196770e+01\n",
      "   9.53723907e+00  5.35801983e+00]\n",
      " [-9.96639347e+00 -1.91058998e+01 -1.06660068e+00 -3.00058818e+00\n",
      "  -6.18924570e+00  5.24632978e+00 -1.54353647e+01  4.64772606e+00\n",
      "   2.38776493e+00  8.09776020e+00]\n",
      " [ 6.97762156e+00 -1.15180540e+01 -6.39609718e+00 -4.14871597e+00\n",
      "  -5.30465603e+00 -3.26098514e+00 -9.33735561e+00  1.89889889e+01\n",
      "   2.01036716e+00  6.22443485e+00]\n",
      " [ 7.39345670e-01 -1.61878932e+00  1.18821726e+01 -2.30855989e+00\n",
      "   1.62829065e+00  5.00864172e+00  1.95842648e+01 -3.72511578e+00\n",
      "   1.26271858e+01  3.52356648e+00]\n",
      " [ 7.07491922e+00 -3.23205376e+00  5.58733892e+00  1.38767052e+01\n",
      "  -6.54315424e+00  9.25917721e+00  1.07997382e+00 -1.62182636e+01\n",
      "   9.03187752e+00 -9.70856571e+00]\n",
      " [-8.31087971e+00 -1.01399384e+01  3.62631083e+00  1.54499273e+01\n",
      "   1.53958237e+00 -4.78323555e+00 -1.12562170e+01 -8.07342911e+00\n",
      "   1.58980236e+01 -2.90878797e+00]\n",
      " [-4.78814268e+00 -1.48657808e+01 -3.99614239e+00 -6.78562450e+00\n",
      "   1.18361216e+01 -2.79537463e+00  1.25390828e+00 -1.70976710e+00\n",
      "   4.20893908e+00  9.76774311e+00]\n",
      " [-1.26392305e+00 -9.04428291e+00 -8.53004360e+00 -7.44950008e+00\n",
      "   8.42851818e-01 -3.06473851e+00 -6.97351074e+00  1.97635994e+01\n",
      "  -3.45989227e-01  1.17924089e+01]\n",
      " [-1.61881466e+01  1.21292105e+01  5.65908909e+00 -3.78903699e+00\n",
      "  -2.38708854e+00  4.73737907e+00  5.38751698e+00  9.85802174e-01\n",
      "   9.90913963e+00 -2.88880897e+00]\n",
      " [ 1.26961839e+00 -8.04577923e+00 -1.53016078e+00 -9.59871101e+00\n",
      "   8.71224308e+00 -9.34869707e-01 -1.00217664e+00  7.53171587e+00\n",
      "   6.80905294e+00  1.27061853e+01]\n",
      " [-3.52554232e-01 -1.30374098e+01  1.92440403e+00 -2.37829971e+00\n",
      "   4.41245317e+00 -5.24268293e+00 -3.50352049e+00  4.03176880e+00\n",
      "   4.25848913e+00  1.04355125e+01]\n",
      " [ 4.98986959e+00 -3.08962202e+00  3.24043560e+00  1.22075548e+01\n",
      "  -9.88206387e+00  1.15267181e+01 -1.79520261e+00 -1.60106640e+01\n",
      "   3.01064539e+00 -1.32424746e+01]\n",
      " [ 3.93407702e+00 -1.93111382e+01  8.60104275e+00  1.94248638e+01\n",
      "  -6.65436864e-01  3.01607490e+00 -1.03563643e+01 -1.31448784e+01\n",
      "   8.67016602e+00 -2.80717397e+00]\n",
      " [-3.57620549e+00  1.27360449e+01  7.31983900e+00  1.79735804e+00\n",
      "  -3.11638188e+00 -5.27676392e+00  1.37520993e+00 -1.70046115e+00\n",
      "   8.43500137e+00 -3.31216311e+00]\n",
      " [-2.03574505e+01  1.14599876e+01  2.69201469e+00  3.53073907e+00\n",
      "  -6.15478849e+00  4.03955162e-01  8.28940034e-01 -9.79721546e-01\n",
      "  -5.29222369e-01  2.12135816e+00]\n",
      " [-8.43465996e+00 -1.61436291e+01 -4.82751369e+00 -5.95989132e+00\n",
      "   2.15521183e+01 -4.66057777e+00  9.32316113e+00 -2.40174341e+00\n",
      "   6.03443766e+00  9.88576794e+00]\n",
      " [ 3.44059491e+00 -2.20888710e+01 -2.90023518e+00  8.72733402e+00\n",
      "   3.96966130e-01  9.00999165e+00 -6.47746420e+00 -6.98057222e+00\n",
      "   2.46000404e+01 -5.05138350e+00]\n",
      " [-2.23902488e+00 -1.15864725e+01 -6.23130512e+00 -1.01009264e+01\n",
      "  -3.08315349e+00  6.78699541e+00 -2.50975943e+00 -3.76661634e+00\n",
      "   1.60356064e+01  5.57803822e+00]\n",
      " [-3.93312573e+00 -5.94814825e+00  1.19665527e+01 -1.38289156e+01\n",
      "   2.39666414e+00  1.28018856e+00  3.37567101e+01 -5.68063354e+00\n",
      "   1.14363403e+01 -1.68348384e+00]\n",
      " [-1.96401799e+00 -9.47568703e+00 -6.17239237e+00 -1.45470786e+00\n",
      "   6.20455599e+00  3.08090019e+00 -9.49414968e-02  4.37184429e+00\n",
      "   1.72528148e+00  1.37230844e+01]\n",
      " [ 3.42583776e+00 -2.26380215e+01  6.13160610e+00 -2.96197128e+00\n",
      "  -1.04426537e+01  8.41677952e+00  1.07369947e+01 -1.34751167e+01\n",
      "  -1.76709068e+00 -2.90018296e+00]\n",
      " [-7.08558130e+00  1.32523012e+01  2.80315285e+01  7.42540550e+00\n",
      "  -1.90599499e+01  1.32292223e+01  9.41827297e+00 -2.31236763e+01\n",
      "   1.31693687e+01 -1.01121168e+01]\n",
      " [-8.39354420e+00  1.39305372e+01  1.03861275e+01  4.22556686e+00\n",
      "   9.45372701e-01 -4.93018031e-02 -3.52974844e+00  3.31103921e-01\n",
      "   1.24238853e+01  4.49688673e-01]\n",
      " [-7.49640369e+00  6.43021488e+00  4.73181105e+00  2.09339929e+00\n",
      "   2.05811167e+00 -2.36462379e+00 -1.85547590e-01  3.95184565e+00\n",
      "   5.29530478e+00  3.44340801e+00]\n",
      " [ 1.00002995e+01 -9.80660820e+00  7.42594814e+00 -3.44421697e+00\n",
      "  -1.04019136e+01  4.72727633e+00 -2.43451834e+00 -9.67580032e+00\n",
      "  -6.82965326e+00 -1.47371063e+01]\n",
      " [-3.69788527e+00  1.52307997e+01  6.87305546e+00  3.40113091e+00\n",
      "  -1.21980345e+00 -5.53902245e+00 -1.62167919e+00  3.04768562e-01\n",
      "   8.71887207e+00 -5.05993128e-01]\n",
      " [-8.57766056e+00  1.78709066e+00 -7.84313583e+00  3.55069280e+00\n",
      "   1.91162968e+00  5.08567333e+00 -5.33958387e+00  1.23909492e+01\n",
      "   3.40959072e+00  9.65707397e+00]\n",
      " [-1.49074781e+00  5.98897934e+00  9.52665424e+00 -4.97404575e+00\n",
      "   1.34482479e+01 -5.41164827e+00  9.69975090e+00 -3.00631523e-01\n",
      "   2.89157820e+00  2.55389571e+00]\n",
      " [-3.54990029e+00  5.63892365e+00  3.13965702e+00  6.38949871e-03\n",
      "  -4.82870150e+00 -2.90262127e+00 -7.87977600e+00 -2.94244385e+00\n",
      "   1.20972872e+00 -5.98075962e+00]\n",
      " [ 2.86268163e+00 -8.69022727e-01  4.63064045e-01 -6.16030216e+00\n",
      "  -1.35483098e+00  3.03145480e+00 -6.52419662e+00  9.98390770e+00\n",
      "   2.14927750e+01  5.11108971e+00]\n",
      " [-8.29618168e+00 -5.32339144e+00 -4.83746672e+00 -6.66988564e+00\n",
      "  -6.38410926e-01  7.02607298e+00 -1.06778026e-01 -9.79146957e-02\n",
      "   9.37227631e+00  3.23644805e+00]\n",
      " [ 2.73951483e+00 -2.13756351e+01 -4.50398874e+00 -6.19948578e+00\n",
      "   6.78463221e+00  9.19827759e-01 -1.08866282e+01  2.02992744e+01\n",
      "  -4.01894808e-01  1.87593613e+01]\n",
      " [ 2.48789430e+00 -1.66338623e+00 -7.84409809e+00  9.86947823e+00\n",
      "   7.96725512e+00  1.04025898e+01 -1.09502172e+01 -1.48070831e+01\n",
      "   5.94597483e+00  3.61142778e+00]\n",
      " [-6.87717199e+00 -1.71663227e+01 -1.37660885e+01 -9.24449444e-01\n",
      "  -1.31456697e+00  9.09127903e+00 -3.95196152e+00 -3.89133549e+00\n",
      "   4.10149384e+00 -9.27235842e-01]\n",
      " [-4.42076832e-01 -1.06859493e+01  9.56538010e+00  3.80185342e+00\n",
      "   1.63887173e-01  2.57457972e+00  1.87973232e+01 -1.20655956e+01\n",
      "   6.42252731e+00  2.54785299e-01]\n",
      " [ 9.13088036e+00 -1.28405962e+01  2.87262106e+00 -5.46104622e+00\n",
      "  -1.32242231e+01  2.76057410e+00 -1.50979795e+01 -5.03268480e-01\n",
      "   3.14947128e-01 -9.27180767e+00]\n",
      " [ 2.86959738e-01 -1.01430674e+01  7.93247557e+00 -1.24244118e+01\n",
      "   1.27906351e+01  2.77025294e+00  2.35571671e+00  1.20594006e+01\n",
      "   4.99718142e+00  4.99198627e+00]\n",
      " [-1.98327839e+00 -1.21116343e+01  1.00646620e+01 -3.30469966e+00\n",
      "   3.84446144e+00  1.01703858e+00  2.11819668e+01  2.40983677e+00\n",
      "   2.51484227e+00  4.30657625e-01]\n",
      " [ 2.66520157e+01 -1.91190147e+01 -9.59360027e+00  4.81534719e-01\n",
      "  -1.64536629e+01  9.47886658e+00 -6.08306360e+00 -1.08600903e+01\n",
      "  -1.89381838e+00 -7.85033178e+00]\n",
      " [-2.02531672e+00 -1.37239342e+01 -6.44784403e+00 -1.97816610e-01\n",
      "   4.01989269e+00  3.30369306e+00  3.50594378e+00  3.10931969e+00\n",
      "   1.15067649e+00  1.52405405e+01]\n",
      " [-1.30607738e+01 -1.11722956e+01 -5.47038794e+00  1.47754126e+01\n",
      "   5.04307222e+00  8.45963955e+00  2.06565523e+00  1.29951739e+00\n",
      "   9.72648621e+00  2.28920102e+00]\n",
      " [ 5.56299829e+00 -2.56101751e+00  8.13700962e+00  9.52126694e+00\n",
      "  -8.53005219e+00  1.01419716e+01  2.50202942e+00  3.36960816e+00\n",
      "  -4.59874153e-01 -3.26372004e+00]\n",
      " [-2.70584971e-01  1.86484349e+00  1.67771435e+01  8.47413063e+00\n",
      "  -1.65383110e+01  1.92391706e+00  1.06904716e+01 -9.41607285e+00\n",
      "   5.78860188e+00 -8.71199512e+00]\n",
      " [-1.30508804e+01 -1.47153366e+00  8.64131808e-01  6.98659515e+00\n",
      "  -9.70496774e-01 -1.97455001e+00  4.85103226e+00  1.49514351e+01\n",
      "  -8.45988989e-01  5.98898792e+00]\n",
      " [ 2.61253446e-01 -5.95113373e+00 -5.38283730e+00  6.06819057e+00\n",
      "  -3.84662461e+00  1.71376801e+00 -1.36621456e+01  2.92572784e+00\n",
      "   1.56477690e-01  1.04783130e+00]\n",
      " [ 5.49646902e+00 -1.07839928e+01 -6.66022205e+00  2.92720056e+00\n",
      "  -3.30513263e+00  4.41337442e+00 -9.06211758e+00  7.92425966e+00\n",
      "   3.99653912e+00 -2.47483826e+00]\n",
      " [ 1.99217854e+01  6.47085667e+00  2.79605312e+01  6.13232517e+00\n",
      "  -2.01889172e+01  5.79507685e+00  1.44821024e+01  1.33050203e+00\n",
      "   1.65453482e+00 -6.87859726e+00]\n",
      " [-5.81264925e+00 -1.15518675e+01  9.20394993e+00 -2.60474777e+00\n",
      "   2.53973937e+00  3.94213748e+00  2.32773418e+01 -9.38450623e+00\n",
      "   7.91517687e+00 -3.44179869e-01]\n",
      " [-5.36386204e+00 -4.35361052e+00  1.21452227e+01  1.01314001e+01\n",
      "  -4.79072809e+00  6.45295441e-01  4.73573327e-01 -8.58796120e+00\n",
      "   9.81466484e+00 -3.15531301e+00]\n",
      " [-1.89537060e+00  8.25938129e+00  8.41152000e+00  3.66178536e+00\n",
      "   1.05978656e+00 -2.35481238e+00  1.04389944e+01 -7.37364435e+00\n",
      "   3.54299784e+00  1.07715404e+00]\n",
      " [ 1.61958656e+01 -6.10619736e+00  1.11998129e+01 -5.98628139e+00\n",
      "  -7.39806986e+00  4.38722515e+00  5.77871680e-01 -8.36657333e+00\n",
      "   5.58310628e-01 -1.18563876e-01]\n",
      " [-3.05308795e+00 -1.65806694e+01  1.53477538e+00 -7.99664593e+00\n",
      "   1.30904713e+01 -1.11740923e+01  2.02609539e+00  2.02437735e+00\n",
      "  -8.18111956e-01  1.10330467e+01]\n",
      " [-3.24700522e+00  1.24682722e+01  5.96252346e+00  1.56770515e+00\n",
      "  -2.86398435e+00 -2.10898185e+00 -6.51734781e+00  1.92761183e-01\n",
      "   6.00663710e+00 -5.21913052e-01]\n",
      " [ 2.85470337e-01  3.50601315e-01 -3.45685697e+00  1.14502943e+00\n",
      "   2.77641511e+00  1.46180468e+01 -8.56640816e+00  1.33635902e+00\n",
      "   1.17990170e+01 -1.02518129e+00]\n",
      " [ 1.59828126e+00 -1.88917720e+00 -1.98107827e+00 -3.75254965e+00\n",
      "   3.45114613e+00 -1.80050611e+00 -1.35806246e+01  1.78695927e+01\n",
      "   3.60597754e+00  1.37167253e+01]\n",
      " [ 1.68826807e+00 -9.50175762e+00  1.05024207e+00  9.74905968e+00\n",
      "   5.57414198e+00  3.34692645e+00  1.18219018e-01  2.33828259e+01\n",
      "   8.92269516e+00  5.30413342e+00]\n",
      " [ 7.99292946e+00 -1.45341730e+01  5.90119457e+00  3.62055135e+00\n",
      "  -1.77922595e+00  4.79275179e+00 -3.82984304e+00 -1.61591263e+01\n",
      "   6.86925840e+00 -1.99246907e+00]\n",
      " [-3.01195359e+00 -1.52915106e+01  2.37436914e+00 -4.76568985e+00\n",
      "  -1.16776383e+00 -1.18119907e+00  4.11244106e+00 -3.37404919e+00\n",
      "  -4.71367741e+00  1.50939083e+01]\n",
      " [ 2.45262432e+00 -1.93634281e+01  2.84965110e+00 -1.05783100e+01\n",
      "   1.32323780e+01 -5.20075560e+00  1.05549078e+01  1.80236053e+00\n",
      "   4.74318647e+00  3.06891894e+00]\n",
      " [ 2.09979801e+01 -2.91674471e+00 -9.39298439e+00  1.87683845e+00\n",
      "  -9.12922955e+00  4.70185947e+00 -1.80178204e+01 -6.71858883e+00\n",
      "   5.54865885e+00  4.67330170e+00]\n",
      " [-1.13629160e+01  8.67112279e-01  5.87943649e+00  5.55592442e+00\n",
      "  -6.27441120e+00 -1.23219180e+00 -6.39113092e+00  1.57029171e+01\n",
      "   3.74236488e+00  9.21835327e+00]\n",
      " [ 1.08913696e+00 -1.20181103e+01 -5.55084896e+00  9.80550528e-01\n",
      "  -1.40946710e+00  1.48590784e+01 -5.31781435e+00 -1.09972286e+01\n",
      "  -3.34254050e+00  6.67934895e-01]\n",
      " [-7.49278784e+00 -1.36844893e+01  8.38520908e+00 -1.71384335e+00\n",
      "   7.07379580e+00 -2.64595079e+00 -7.42326832e+00  8.55619240e+00\n",
      "   1.65434766e+00  1.45657187e+01]\n",
      " [-8.80631924e+00 -3.63532066e+00 -2.39637613e+00 -4.65628505e-01\n",
      "  -2.97014207e-01  1.92209268e+00 -1.16275823e+00  8.04287910e-01\n",
      "   5.09700775e-01  9.70569229e+00]\n",
      " [-7.02070832e-01 -2.15695801e+01  1.77458060e+00  6.13494015e+00\n",
      "   5.18595552e+00  8.37333965e+00 -5.59199381e+00 -1.69876499e+01\n",
      "   1.73439045e+01 -5.28965855e+00]\n",
      " [-5.13240290e+00 -1.07365389e+01 -1.44047916e+00  3.57635522e+00\n",
      "  -5.32474661e+00  6.25277090e+00 -9.99672699e+00 -1.47766457e+01\n",
      "   9.01800728e+00 -5.64433193e+00]\n",
      " [ 4.44991112e+00 -8.20289230e+00  8.30298543e-01  8.50758266e+00\n",
      "  -7.27663612e+00  6.63494396e+00 -2.37715101e+00 -1.29443378e+01\n",
      "   7.48483229e+00 -1.85937285e+00]\n",
      " [ 1.88811648e+00 -2.13018494e+01 -7.66663361e+00  2.07835412e+00\n",
      "   1.15824585e+01 -4.32746506e+00  2.74667454e+00  5.32184362e-01\n",
      "   3.68742704e+00  1.50261135e+01]\n",
      " [-1.93002331e+00 -1.42559690e+01 -7.54164028e+00 -1.08908548e+01\n",
      "   1.14345121e+01  4.68711758e+00 -2.11282587e+00  4.81569147e+00\n",
      "   1.37091231e+00  6.98415852e+00]\n",
      " [-1.09750569e+00 -5.71220756e-01 -1.84590280e+00  3.62677598e+00\n",
      "  -4.76389265e+00  4.50931072e+00  5.45105100e-01 -5.64783621e+00\n",
      "   7.65461302e+00  3.40684295e-01]\n",
      " [-1.74021971e+00 -1.65998840e+01  1.23107195e+01 -1.85786476e+01\n",
      "   5.13728189e+00 -2.90764022e+00  1.98476276e+01  6.40552187e+00\n",
      "  -8.78560483e-01 -4.24018955e+00]\n",
      " [ 6.25472689e+00 -2.26727438e+00  3.94617248e+00  1.11989470e+01\n",
      "  -6.06963539e+00  7.45827579e+00 -1.06873198e+01  3.09017658e+00\n",
      "   6.85946512e+00 -5.21911430e+00]\n",
      " [-2.82115722e+00  2.99163485e+00  1.13543062e+01 -9.27337360e+00\n",
      "   1.02741051e+00  4.83814925e-02  1.69655094e+01  4.37823868e+00\n",
      "   6.46130419e+00  3.49900317e+00]\n",
      " [ 2.10993118e+01 -2.38538895e+01  8.56967092e-01 -6.53001213e+00\n",
      "  -5.40574694e+00  6.13280582e+00  5.19994926e+00 -6.85137844e+00\n",
      "   6.72952652e+00  4.10652924e+00]\n",
      " [ 7.87385345e-01  1.06199293e+01  1.94799614e+01  8.58796597e+00\n",
      "  -1.72274418e+01  9.41040897e+00  6.70376539e+00 -1.20431252e+01\n",
      "   1.45299835e+01 -8.45360661e+00]\n",
      " [ 3.89138770e+00 -1.52200079e+01  1.12466383e+00  8.75405788e+00\n",
      "   6.09881544e+00 -3.55683684e+00 -8.88870144e+00  2.34630108e+01\n",
      "   1.03581047e+01  6.11945438e+00]\n",
      " [ 1.43759882e+00 -2.23984642e+01  1.02550197e+00  4.62527275e+00\n",
      "   1.24179392e+01 -6.87393284e+00  4.89513016e+00 -1.07221508e+00\n",
      "   5.64846897e+00  2.62031007e+00]\n",
      " [ 3.86113763e+00 -2.95689344e+00  8.12750530e+00  1.60179405e+01\n",
      "  -1.34670286e+01  5.86682558e-03 -1.74096622e+01 -7.55981112e+00\n",
      "   6.13635302e+00 -1.42583742e+01]\n",
      " [-7.20078111e-01 -1.33866415e+01 -1.01493235e+01 -5.46804428e+00\n",
      "  -8.57093906e+00  1.04125643e+01 -6.72895193e+00 -1.43815708e+01\n",
      "  -1.47929752e+00 -3.03725481e-01]\n",
      " [-2.44078851e+00  1.52245390e+00  2.16736050e+01  7.05547905e+00\n",
      "  -1.05639925e+01 -2.64450729e-01  6.99759603e-01 -4.57742834e+00\n",
      "   9.83455658e+00  1.67301631e+00]\n",
      " [-3.25304723e+00 -2.78840351e+00  7.25895166e+00  3.96657586e+00\n",
      "  -1.70228469e+00  4.87666512e+00  1.37163754e+01 -1.54923553e+01\n",
      "   8.14813805e+00 -1.08346820e+00]\n",
      " [-6.37691402e+00 -1.28527174e+01 -4.88591576e+00 -4.03507996e+00\n",
      "   5.46873665e+00 -5.25832510e+00 -4.10111570e+00 -7.16112614e-01\n",
      "  -5.79661846e-01  7.06568432e+00]\n",
      " [ 6.33729982e+00 -1.34936371e+01  3.48478413e+00 -1.01180353e+01\n",
      "  -1.13939219e+01  2.65350556e+00  2.46514559e+00 -1.27520084e+00\n",
      "   6.88071871e+00  2.06711173e+00]]\n"
     ]
    }
   ],
   "source": [
    "# added for debugging\n",
    "print ('bias is: ',session.run(bias))\n",
    "print('weights are: ',session.run(weights))\n",
    "print('logits are: ', session.run(logits, feed_dict={x_input: train_images}))"
   ]
  },
  {
   "cell_type": "code",
   "execution_count": 11,
   "metadata": {},
   "outputs": [
    {
     "data": {
      "text/plain": [
       "<tf.Tensor 'add:0' shape=(?, 10) dtype=float32>"
      ]
     },
     "execution_count": 11,
     "metadata": {},
     "output_type": "execute_result"
    }
   ],
   "source": [
    "logits"
   ]
  },
  {
   "cell_type": "code",
   "execution_count": 12,
   "metadata": {},
   "outputs": [
    {
     "data": {
      "text/plain": [
       "<tf.Tensor 'Placeholder_1:0' shape=(?, 10) dtype=float32>"
      ]
     },
     "execution_count": 12,
     "metadata": {},
     "output_type": "execute_result"
    }
   ],
   "source": [
    "y_input"
   ]
  },
  {
   "cell_type": "code",
   "execution_count": 13,
   "metadata": {
    "colab": {
     "base_uri": "https://localhost:8080/",
     "height": 4200
    },
    "colab_type": "code",
    "id": "T7-pAFnVaM1G",
    "outputId": "f7943130-a0c0-47f6-8778-e0921477be3c"
   },
   "outputs": [
    {
     "name": "stdout",
     "output_type": "stream",
     "text": [
      "Accuracy :  0.8084\n"
     ]
    }
   ],
   "source": [
    "predictions = tf.argmax(logits, 1)\n",
    "\n",
    "correct_predictions = tf.equal(predictions, tf.argmax(y_input, 1))\n",
    "accuracy_operation = tf.reduce_mean(tf.cast(correct_predictions,\n",
    "                                            tf.float32))\n",
    "test_images, test_labels = mnist_data.test.images, mnist_data.test.labels\n",
    "accuracy_value = session.run(accuracy_operation, feed_dict={\n",
    "    x_input: test_images,\n",
    "    y_input: test_labels\n",
    "})\n",
    "print('Accuracy : ', accuracy_value)\n",
    "session.close()"
   ]
  },
  {
   "cell_type": "code",
   "execution_count": 19,
   "metadata": {},
   "outputs": [
    {
     "name": "stdout",
     "output_type": "stream",
     "text": [
      "Collecting sklearn\n",
      "  Downloading https://files.pythonhosted.org/packages/1e/7a/dbb3be0ce9bd5c8b7e3d87328e79063f8b263b2b1bfa4774cb1147bfcd3f/sklearn-0.0.tar.gz\n",
      "Collecting scikit-learn\n",
      "  Downloading https://files.pythonhosted.org/packages/e9/fc/37c2706fe0d252e89c49f0c94b94b27878f75a372ca7e5e7ea7583f61c79/scikit_learn-0.22-cp36-cp36m-win_amd64.whl (6.2MB)\n",
      "Collecting joblib>=0.11\n",
      "  Downloading https://files.pythonhosted.org/packages/28/5c/cf6a2b65a321c4a209efcdf64c2689efae2cb62661f8f6f4bb28547cf1bf/joblib-0.14.1-py2.py3-none-any.whl (294kB)\n",
      "Requirement already satisfied: scipy>=0.17.0 in c:\\users\\rta_note\\anaconda3\\lib\\site-packages (from scikit-learn->sklearn) (1.3.2)\n",
      "Requirement already satisfied: numpy>=1.11.0 in c:\\users\\rta_note\\anaconda3\\lib\\site-packages (from scikit-learn->sklearn) (1.17.4)\n",
      "Building wheels for collected packages: sklearn\n",
      "  Building wheel for sklearn (setup.py): started\n",
      "  Building wheel for sklearn (setup.py): finished with status 'done'\n",
      "  Created wheel for sklearn: filename=sklearn-0.0-py2.py3-none-any.whl size=1321 sha256=ddb0f003047743ca3ba12bc0347ebc3849c7d6a82f1c5b2335aa1473f9afddd8\n",
      "  Stored in directory: C:\\Users\\rta_note\\AppData\\Local\\pip\\Cache\\wheels\\76\\03\\bb\\589d421d27431bcd2c6da284d5f2286c8e3b2ea3cf1594c074\n",
      "Successfully built sklearn\n",
      "Installing collected packages: joblib, scikit-learn, sklearn\n",
      "Successfully installed joblib-0.14.1 scikit-learn-0.22 sklearn-0.0\n"
     ]
    }
   ],
   "source": [
    "!pip install sklearn"
   ]
  },
  {
   "cell_type": "code",
   "execution_count": 20,
   "metadata": {},
   "outputs": [
    {
     "data": {
      "text/plain": [
       "0.8968"
      ]
     },
     "execution_count": 20,
     "metadata": {},
     "output_type": "execute_result"
    }
   ],
   "source": [
    "import pandas as pd\n",
    "from sklearn.ensemble import RandomForestClassifier\n",
    "X = mnist_data.train.images\n",
    "y = mnist_data.train.labels\n",
    "rfc = RandomForestClassifier(n_estimators=50)\n",
    "rfc.fit(X,y)\n",
    "rfc.score(mnist_data.test.images, mnist_data.test.labels)"
   ]
  },
  {
   "cell_type": "code",
   "execution_count": 21,
   "metadata": {
    "colab": {},
    "colab_type": "code",
    "id": "bEVRj1tkpTW8"
   },
   "outputs": [
    {
     "data": {
      "text/plain": [
       "((55000, 784), (55000, 10))"
      ]
     },
     "execution_count": 21,
     "metadata": {},
     "output_type": "execute_result"
    }
   ],
   "source": [
    "mnist_data.train.images.shape, mnist_data.train.labels.shape"
   ]
  },
  {
   "cell_type": "code",
   "execution_count": 22,
   "metadata": {},
   "outputs": [
    {
     "data": {
      "text/plain": [
       "array([0., 0., 0., 1., 0., 0., 0., 0., 0., 0.])"
      ]
     },
     "execution_count": 22,
     "metadata": {},
     "output_type": "execute_result"
    }
   ],
   "source": [
    "mnist_data.train.labels[0]"
   ]
  },
  {
   "cell_type": "markdown",
   "metadata": {},
   "source": [
    "# Exercise"
   ]
  },
  {
   "cell_type": "code",
   "execution_count": 23,
   "metadata": {},
   "outputs": [],
   "source": [
    "# 2-D tensor `a`\n",
    "# [[1, 2, 3],\n",
    "#  [4, 5, 6]]\n",
    "a = tf.constant([1, 2, 3, 4, 5, 6], shape=[2, 3])\n",
    "\n",
    "# 2-D tensor `b`\n",
    "# [[ 7,  8],\n",
    "#  [ 9, 10],\n",
    "#  [11, 12]]\n",
    "b = tf.constant([7, 8, 9, 10, 11, 12], shape=[3, 2])\n",
    "\n",
    "# `a` * `b`\n",
    "# [[ 58,  64],\n",
    "#  [139, 154]]\n",
    "c = tf.matmul(a, b)"
   ]
  },
  {
   "cell_type": "code",
   "execution_count": 26,
   "metadata": {},
   "outputs": [
    {
     "data": {
      "text/plain": [
       "array([[ 58,  64],\n",
       "       [139, 154]])"
      ]
     },
     "execution_count": 26,
     "metadata": {},
     "output_type": "execute_result"
    }
   ],
   "source": [
    "tf.Session().run(c)"
   ]
  },
  {
   "cell_type": "code",
   "execution_count": 28,
   "metadata": {},
   "outputs": [],
   "source": [
    "import numpy as np\n",
    "# 3-D tensor `a`\n",
    "# [[[ 1,  2,  3],\n",
    "#   [ 4,  5,  6]],\n",
    "#  [[ 7,  8,  9],\n",
    "#   [10, 11, 12]]]\n",
    "a = tf.constant(np.arange(1, 13, dtype=np.int32),\n",
    "                shape=[2, 2, 3])\n",
    "\n",
    "# 3-D tensor `b`\n",
    "# [[[13, 14],\n",
    "#   [15, 16],\n",
    "#   [17, 18]],\n",
    "#  [[19, 20],\n",
    "#   [21, 22],\n",
    "#   [23, 24]]]\n",
    "b = tf.constant(np.arange(13, 25, dtype=np.int32),\n",
    "                shape=[2, 3, 2])\n",
    "\n",
    "# `a` * `b`\n",
    "# [[[ 94, 100],\n",
    "#   [229, 244]],\n",
    "#  [[508, 532],\n",
    "#   [697, 730]]]\n",
    "c = tf.matmul(a, b)"
   ]
  },
  {
   "cell_type": "code",
   "execution_count": 29,
   "metadata": {},
   "outputs": [
    {
     "data": {
      "text/plain": [
       "array([[[ 1,  2,  3],\n",
       "        [ 4,  5,  6]],\n",
       "\n",
       "       [[ 7,  8,  9],\n",
       "        [10, 11, 12]]])"
      ]
     },
     "execution_count": 29,
     "metadata": {},
     "output_type": "execute_result"
    }
   ],
   "source": [
    "tf.Session().run(a)"
   ]
  },
  {
   "cell_type": "code",
   "execution_count": 31,
   "metadata": {},
   "outputs": [
    {
     "data": {
      "text/plain": [
       "array([[[13, 14],\n",
       "        [15, 16],\n",
       "        [17, 18]],\n",
       "\n",
       "       [[19, 20],\n",
       "        [21, 22],\n",
       "        [23, 24]]])"
      ]
     },
     "execution_count": 31,
     "metadata": {},
     "output_type": "execute_result"
    }
   ],
   "source": [
    "tf.Session().run(b)"
   ]
  },
  {
   "cell_type": "code",
   "execution_count": 34,
   "metadata": {},
   "outputs": [
    {
     "data": {
      "text/plain": [
       "array([[[ 94, 100],\n",
       "        [229, 244]],\n",
       "\n",
       "       [[508, 532],\n",
       "        [697, 730]]])"
      ]
     },
     "execution_count": 34,
     "metadata": {},
     "output_type": "execute_result"
    }
   ],
   "source": [
    "tf.Session().run(c)"
   ]
  },
  {
   "cell_type": "code",
   "execution_count": 35,
   "metadata": {},
   "outputs": [
    {
     "data": {
      "text/plain": [
       "(<tf.Tensor 'Const_4:0' shape=(2, 2, 3) dtype=int32>,\n",
       " <tf.Tensor 'Const_5:0' shape=(2, 3, 2) dtype=int32>,\n",
       " <tf.Tensor 'MatMul_2:0' shape=(2, 2, 2) dtype=int32>)"
      ]
     },
     "execution_count": 35,
     "metadata": {},
     "output_type": "execute_result"
    }
   ],
   "source": [
    "a,b,c"
   ]
  },
  {
   "cell_type": "code",
   "execution_count": 39,
   "metadata": {},
   "outputs": [],
   "source": [
    "A = tf.Variable(tf.random_normal([5, 4, 10, 2, 3]))\n",
    "B = tf.Variable(tf.random_normal([5, 4, 10, 3, 7]))\n",
    "C = tf.matmul(A, B)\n",
    "\n",
    "# tf.matmul(3차원 이상의 텐서 사이의 행렬 곱은 행렬의 차원을 나타내는 마지막 두 개의 \n",
    "# 차원(2x3, 3x7) 사이에 행렬 곱이 가능하고 행렬 앞에 있는 차원(5x4x10)이 같으면 \n",
    "# 가능한 것을 알 수 있습니다.\n",
    "# 출처: https://bowbowbow.tistory.com/27 [멍멍멍]"
   ]
  },
  {
   "cell_type": "code",
   "execution_count": 43,
   "metadata": {},
   "outputs": [
    {
     "data": {
      "text/plain": [
       "(TensorShape([Dimension(5), Dimension(4), Dimension(10), Dimension(2), Dimension(3)]),\n",
       " TensorShape([Dimension(5), Dimension(4), Dimension(10), Dimension(3), Dimension(7)]),\n",
       " TensorShape([Dimension(5), Dimension(4), Dimension(10), Dimension(2), Dimension(7)]))"
      ]
     },
     "execution_count": 43,
     "metadata": {},
     "output_type": "execute_result"
    }
   ],
   "source": [
    "sess = tf.Session()\n",
    "sess.run(tf.global_variables_initializer())\n",
    "sess.run(C)\n",
    "A.shape, B.shape, C.shape"
   ]
  },
  {
   "cell_type": "code",
   "execution_count": null,
   "metadata": {},
   "outputs": [],
   "source": []
  }
 ],
 "metadata": {
  "accelerator": "GPU",
  "colab": {
   "collapsed_sections": [],
   "include_colab_link": true,
   "name": "gg-50-MNIST-텐서플로우.ipynb",
   "provenance": [],
   "version": "0.3.2"
  },
  "kernelspec": {
   "display_name": "Python 3",
   "language": "python",
   "name": "python3"
  },
  "language_info": {
   "codemirror_mode": {
    "name": "ipython",
    "version": 3
   },
   "file_extension": ".py",
   "mimetype": "text/x-python",
   "name": "python",
   "nbconvert_exporter": "python",
   "pygments_lexer": "ipython3",
   "version": "3.6.8"
  }
 },
 "nbformat": 4,
 "nbformat_minor": 1
}
