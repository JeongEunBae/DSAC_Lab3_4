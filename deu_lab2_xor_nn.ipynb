{
  "nbformat": 4,
  "nbformat_minor": 0,
  "metadata": {
    "colab": {
      "name": "deu_lab2_xor_nn.ipynb",
      "provenance": [],
      "collapsed_sections": [],
      "authorship_tag": "ABX9TyOFmuM+lkbwX8bPi5GDmW9i",
      "include_colab_link": true
    },
    "kernelspec": {
      "name": "python3",
      "display_name": "Python 3"
    },
    "accelerator": "GPU"
  },
  "cells": [
    {
      "cell_type": "markdown",
      "metadata": {
        "id": "view-in-github",
        "colab_type": "text"
      },
      "source": [
        "<a href=\"https://colab.research.google.com/github/rtajeong/DSAC_Lab3_4/blob/master/deu_lab2_xor_nn.ipynb\" target=\"_parent\"><img src=\"https://colab.research.google.com/assets/colab-badge.svg\" alt=\"Open In Colab\"/></a>"
      ]
    },
    {
      "cell_type": "code",
      "metadata": {
        "id": "4qOqgp2YxvqE"
      },
      "source": [
        "import numpy as np\n",
        "import tensorflow as tf\n",
        "import matplotlib.pyplot as plt\n",
        "%matplotlib inline"
      ],
      "execution_count": 42,
      "outputs": []
    },
    {
      "cell_type": "markdown",
      "metadata": {
        "id": "OKIRfmKDaEZc"
      },
      "source": [
        ""
      ]
    },
    {
      "cell_type": "markdown",
      "metadata": {
        "id": "eZlGvI_wzGfj"
      },
      "source": [
        "# EXOR problem with tensorflow 2.0"
      ]
    },
    {
      "cell_type": "code",
      "metadata": {
        "id": "E0bptgyOyaAh"
      },
      "source": [
        "# tf.random.set_seed(17)\n",
        "\n",
        "X = np.array([[0.,0.],\n",
        "              [1.,0.],\n",
        "              [0.,1.],\n",
        "              [1.,1.]], dtype=\"float32\")\n",
        "Y = np.array([[0.],\n",
        "              [1.],\n",
        "              [1.],\n",
        "              [0.]], dtype=\"float32\")\n"
      ],
      "execution_count": 13,
      "outputs": []
    },
    {
      "cell_type": "code",
      "metadata": {
        "id": "EUKRE6LKP-cR",
        "outputId": "5d08b381-f914-4262-bfc3-7dad6fa602ef",
        "colab": {
          "base_uri": "https://localhost:8080/",
          "height": 403
        }
      },
      "source": [
        "\n",
        "W = tf.Variable(tf.random.normal([2,1]))\n",
        "b = tf.Variable(tf.random.normal([1]))\n",
        "# W = tf.Variable([[3.], [7.]])\n",
        "# b = tf.Variable([4.])\n",
        "\n",
        "learning_rate = 0.1\n",
        "lossHistory = []\n",
        "\n",
        "for i in range(500):\n",
        "    with tf.GradientTape() as tape:\n",
        "        hypothesis = tf.sigmoid(tf.matmul(X, W) + b)\n",
        "        cost = -tf.reduce_mean(Y*tf.math.log(hypothesis) +\n",
        "                               (1-Y)*tf.math.log(1-hypothesis))   # cross entropy\n",
        "\n",
        "    W_grad, b_grad = tape.gradient(cost, [W, b])\n",
        "    W.assign_sub(learning_rate * W_grad)   # W = W - ...\n",
        "    b.assign_sub(learning_rate * b_grad)\n",
        "    lossHistory.append(cost)\n",
        "\n",
        "predicted = tf.cast(hypothesis > 0.5, dtype= tf.float32)\n",
        "accuracy = tf.reduce_mean(tf.cast(tf.equal(predicted, Y), dtype=tf.float32))\n",
        "\n",
        "print(hypothesis.numpy(), predicted.numpy(), accuracy.numpy())\n",
        "plt.plot(lossHistory)"
      ],
      "execution_count": 14,
      "outputs": [
        {
          "output_type": "stream",
          "text": [
            "[[0.46415785]\n",
            " [0.48282027]\n",
            " [0.5059061 ]\n",
            " [0.5246037 ]] [[0.]\n",
            " [0.]\n",
            " [1.]\n",
            " [1.]] 0.5\n"
          ],
          "name": "stdout"
        },
        {
          "output_type": "execute_result",
          "data": {
            "text/plain": [
              "[<matplotlib.lines.Line2D at 0x7ff49a777da0>]"
            ]
          },
          "metadata": {
            "tags": []
          },
          "execution_count": 14
        },
        {
          "output_type": "display_data",
          "data": {
            "image/png": "[encoded data removed]",
            "text/plain": [
              "<Figure size 432x288 with 1 Axes>"
            ]
          },
          "metadata": {
            "tags": [],
            "needs_background": "light"
          }
        }
      ]
    },
    {
      "cell_type": "markdown",
      "metadata": {
        "id": "w_TiqIvMQBgH"
      },
      "source": [
        "# Using Keras function"
      ]
    },
    {
      "cell_type": "code",
      "metadata": {
        "id": "3IBtQtDPQDyv"
      },
      "source": [
        "from keras.models import Sequential\n",
        "from keras.layers.core import Dense\n",
        "from keras.optimizers import SGD"
      ],
      "execution_count": 15,
      "outputs": []
    },
    {
      "cell_type": "code",
      "metadata": {
        "id": "kAYEQd3-QtNf",
        "outputId": "5884eb66-5a54-4ffa-99f6-3b8780779c43",
        "colab": {
          "base_uri": "https://localhost:8080/",
          "height": 561
        }
      },
      "source": [
        "X = np.array([[0.,0.], [1.,0.], [0.,1.], [1.,1.]], dtype=\"float32\")\n",
        "Y = np.array([[0.], [1.], [1.], [0.]], dtype=\"float32\")\n",
        "\n",
        "model = Sequential()\n",
        "model.add(Dense(1, input_shape=(2,), activation='sigmoid'))\n",
        "model.summary()\n",
        "\n",
        "model.compile(optimizer=SGD(learning_rate = 0.1),\n",
        "              loss = 'binary_crossentropy',\n",
        "              metrics = ['accuracy'])\n",
        "history = model.fit(X, Y, epochs=1000, verbose=0)\n",
        "print(model.predict_proba(X))\n",
        "\n",
        "# print(history.history.keys())\n",
        "plt.subplot(1,2,1)\n",
        "plt.plot(history.history['loss'])\n",
        "plt.subplot(1,2,2)\n",
        "plt.plot(history.history['accuracy'])"
      ],
      "execution_count": 23,
      "outputs": [
        {
          "output_type": "stream",
          "text": [
            "Model: \"sequential_6\"\n",
            "_________________________________________________________________\n",
            "Layer (type)                 Output Shape              Param #   \n",
            "=================================================================\n",
            "dense_6 (Dense)              (None, 1)                 3         \n",
            "=================================================================\n",
            "Total params: 3\n",
            "Trainable params: 3\n",
            "Non-trainable params: 0\n",
            "_________________________________________________________________\n",
            "WARNING:tensorflow:6 out of the last 6 calls to <function Model.make_predict_function.<locals>.predict_function at 0x7ff49a1d12f0> triggered tf.function retracing. Tracing is expensive and the excessive number of tracings could be due to (1) creating @tf.function repeatedly in a loop, (2) passing tensors with different shapes, (3) passing Python objects instead of tensors. For (1), please define your @tf.function outside of the loop. For (2), @tf.function has experimental_relax_shapes=True option that relaxes argument shapes that can avoid unnecessary retracing. For (3), please refer to https://www.tensorflow.org/tutorials/customization/performance#python_or_tensor_args and https://www.tensorflow.org/api_docs/python/tf/function for  more details.\n",
            "[[0.5028833]\n",
            " [0.5003313]\n",
            " [0.5005737]\n",
            " [0.4980216]]\n"
          ],
          "name": "stdout"
        },
        {
          "output_type": "execute_result",
          "data": {
            "text/plain": [
              "[<matplotlib.lines.Line2D at 0x7ff49a59a438>]"
            ]
          },
          "metadata": {
            "tags": []
          },
          "execution_count": 23
        },
        {
          "output_type": "display_data",
          "data": {
            "image/png": "[encoded data removed]",
            "text/plain": [
              "<Figure size 432x288 with 2 Axes>"
            ]
          },
          "metadata": {
            "tags": [],
            "needs_background": "light"
          }
        }
      ]
    },
    {
      "cell_type": "markdown",
      "metadata": {
        "id": "QMpYwT9eUji_"
      },
      "source": [
        "# Multi-layer Perceptron (MLP)"
      ]
    },
    {
      "cell_type": "code",
      "metadata": {
        "id": "TxneX9xySU4N",
        "outputId": "7709f0ca-8418-49e5-91ca-bc25eb17abe8",
        "colab": {
          "base_uri": "https://localhost:8080/",
          "height": 594
        }
      },
      "source": [
        "tf.random.set_seed(17)\n",
        "X = np.array([[0.,0.], [1.,0.], [0.,1.], [1.,1.]], dtype=\"float32\")\n",
        "Y = np.array([[0.], [1.], [1.], [0.]], dtype=\"float32\")\n",
        "\n",
        "model = Sequential()\n",
        "model.add(Dense(8, input_shape=(2,), activation='relu'))\n",
        "model.add(Dense(1, activation='sigmoid'))\n",
        "model.summary()\n",
        "\n",
        "model.compile(optimizer=SGD(learning_rate = 0.1),\n",
        "              loss = 'binary_crossentropy',\n",
        "              metrics = ['accuracy'])\n",
        "history = model.fit(X, Y, epochs=200, verbose=0)\n",
        "print(model.predict_proba(X))\n",
        "\n",
        "# print(history.history.keys())\n",
        "plt.subplot(1,2,1)\n",
        "plt.plot(history.history['loss'])\n",
        "plt.subplot(1,2,2)\n",
        "plt.plot(history.history['accuracy'])"
      ],
      "execution_count": 36,
      "outputs": [
        {
          "output_type": "stream",
          "text": [
            "Model: \"sequential_19\"\n",
            "_________________________________________________________________\n",
            "Layer (type)                 Output Shape              Param #   \n",
            "=================================================================\n",
            "dense_31 (Dense)             (None, 8)                 24        \n",
            "_________________________________________________________________\n",
            "dense_32 (Dense)             (None, 1)                 9         \n",
            "=================================================================\n",
            "Total params: 33\n",
            "Trainable params: 33\n",
            "Non-trainable params: 0\n",
            "_________________________________________________________________\n",
            "WARNING:tensorflow:11 out of the last 11 calls to <function Model.make_predict_function.<locals>.predict_function at 0x7ff495c84b70> triggered tf.function retracing. Tracing is expensive and the excessive number of tracings could be due to (1) creating @tf.function repeatedly in a loop, (2) passing tensors with different shapes, (3) passing Python objects instead of tensors. For (1), please define your @tf.function outside of the loop. For (2), @tf.function has experimental_relax_shapes=True option that relaxes argument shapes that can avoid unnecessary retracing. For (3), please refer to https://www.tensorflow.org/tutorials/customization/performance#python_or_tensor_args and https://www.tensorflow.org/api_docs/python/tf/function for  more details.\n",
            "[[0.30804625]\n",
            " [0.7174152 ]\n",
            " [0.8150586 ]\n",
            " [0.23878515]]\n"
          ],
          "name": "stdout"
        },
        {
          "output_type": "execute_result",
          "data": {
            "text/plain": [
              "[<matplotlib.lines.Line2D at 0x7ff495d672b0>]"
            ]
          },
          "metadata": {
            "tags": []
          },
          "execution_count": 36
        },
        {
          "output_type": "display_data",
          "data": {
            "image/png": "[encoded data removed]",
            "text/plain": [
              "<Figure size 432x288 with 2 Axes>"
            ]
          },
          "metadata": {
            "tags": [],
            "needs_background": "light"
          }
        }
      ]
    },
    {
      "cell_type": "markdown",
      "metadata": {
        "id": "rO75vWNRY9G3"
      },
      "source": [
        "# Many layers (8 layers)"
      ]
    },
    {
      "cell_type": "code",
      "metadata": {
        "id": "kYI7vS4tY7qg",
        "outputId": "3b0f09a7-18c8-4431-b916-40500093de00",
        "colab": {
          "base_uri": "https://localhost:8080/",
          "height": 834
        }
      },
      "source": [
        "tf.random.set_seed(17)\n",
        "X = np.array([[0.,0.], [1.,0.], [0.,1.], [1.,1.]], dtype=\"float32\")\n",
        "Y = np.array([[0.], [1.], [1.], [0.]], dtype=\"float32\")\n",
        "\n",
        "model = Sequential()\n",
        "model.add(Dense(8, input_shape=(2,), activation='relu'))\n",
        "model.add(Dense(8, activation='relu'))\n",
        "model.add(Dense(8, activation='relu'))\n",
        "model.add(Dense(8, activation='relu'))\n",
        "model.add(Dense(8, activation='relu'))\n",
        "model.add(Dense(8, activation='relu'))\n",
        "model.add(Dense(8, activation='relu'))\n",
        "model.add(Dense(8, activation='relu'))\n",
        "model.add(Dense(1, activation='sigmoid'))\n",
        "model.summary()\n",
        "\n",
        "model.compile(optimizer=SGD(learning_rate = 0.1),\n",
        "              loss = 'binary_crossentropy',\n",
        "              metrics = ['accuracy'])\n",
        "history = model.fit(X, Y, epochs=200, verbose=0)\n",
        "print(model.predict_proba(X))\n",
        "\n",
        "# print(history.history.keys())\n",
        "plt.subplot(1,2,1)\n",
        "plt.plot(history.history['loss'])\n",
        "plt.subplot(1,2,2)\n",
        "plt.plot(history.history['accuracy'])"
      ],
      "execution_count": 45,
      "outputs": [
        {
          "output_type": "stream",
          "text": [
            "Model: \"sequential_27\"\n",
            "_________________________________________________________________\n",
            "Layer (type)                 Output Shape              Param #   \n",
            "=================================================================\n",
            "dense_96 (Dense)             (None, 8)                 24        \n",
            "_________________________________________________________________\n",
            "dense_97 (Dense)             (None, 8)                 72        \n",
            "_________________________________________________________________\n",
            "dense_98 (Dense)             (None, 8)                 72        \n",
            "_________________________________________________________________\n",
            "dense_99 (Dense)             (None, 8)                 72        \n",
            "_________________________________________________________________\n",
            "dense_100 (Dense)            (None, 8)                 72        \n",
            "_________________________________________________________________\n",
            "dense_101 (Dense)            (None, 8)                 72        \n",
            "_________________________________________________________________\n",
            "dense_102 (Dense)            (None, 8)                 72        \n",
            "_________________________________________________________________\n",
            "dense_103 (Dense)            (None, 8)                 72        \n",
            "_________________________________________________________________\n",
            "dense_104 (Dense)            (None, 1)                 9         \n",
            "=================================================================\n",
            "Total params: 537\n",
            "Trainable params: 537\n",
            "Non-trainable params: 0\n",
            "_________________________________________________________________\n",
            "WARNING:tensorflow:11 out of the last 11 calls to <function Model.make_predict_function.<locals>.predict_function at 0x7ff49324d1e0> triggered tf.function retracing. Tracing is expensive and the excessive number of tracings could be due to (1) creating @tf.function repeatedly in a loop, (2) passing tensors with different shapes, (3) passing Python objects instead of tensors. For (1), please define your @tf.function outside of the loop. For (2), @tf.function has experimental_relax_shapes=True option that relaxes argument shapes that can avoid unnecessary retracing. For (3), please refer to https://www.tensorflow.org/tutorials/customization/performance#python_or_tensor_args and https://www.tensorflow.org/api_docs/python/tf/function for  more details.\n",
            "[[0.0069209 ]\n",
            " [0.9980015 ]\n",
            " [0.9992094 ]\n",
            " [0.00696603]]\n"
          ],
          "name": "stdout"
        },
        {
          "output_type": "execute_result",
          "data": {
            "text/plain": [
              "[<matplotlib.lines.Line2D at 0x7ff4930db4a8>]"
            ]
          },
          "metadata": {
            "tags": []
          },
          "execution_count": 45
        },
        {
          "output_type": "display_data",
          "data": {
            "image/png": "[encoded data removed]",
            "text/plain": [
              "<Figure size 432x288 with 2 Axes>"
            ]
          },
          "metadata": {
            "tags": [],
            "needs_background": "light"
          }
        }
      ]
    }
  ]
}