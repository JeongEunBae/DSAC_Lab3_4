{
  "nbformat": 4,
  "nbformat_minor": 0,
  "metadata": {
    "colab": {
      "name": "deu_lab0_tensorflow1.x.ipynb",
      "provenance": [],
      "collapsed_sections": [],
      "toc_visible": true,
      "authorship_tag": "ABX9TyNo/KQsDM7/6R/HHC9AgxA7",
      "include_colab_link": true
    },
    "kernelspec": {
      "name": "python3",
      "display_name": "Python 3"
    },
    "accelerator": "GPU"
  },
  "cells": [
    {
      "cell_type": "markdown",
      "metadata": {
        "id": "view-in-github",
        "colab_type": "text"
      },
      "source": [
        "<a href=\"https://colab.research.google.com/github/rtajeong/DSAC_Lab3_4/blob/master/deu_lab0_tensorflow1_x.ipynb\" target=\"_parent\"><img src=\"https://colab.research.google.com/assets/colab-badge.svg\" alt=\"Open In Colab\"/></a>"
      ]
    },
    {
      "cell_type": "markdown",
      "metadata": {
        "id": "7k74rkQJkSF1"
      },
      "source": [
        "# Tensorflow 1.x Lab"
      ]
    },
    {
      "cell_type": "code",
      "metadata": {
        "id": "dC-4pCbjkRjv"
      },
      "source": [
        "import numpy as np\n",
        "import matplotlib.pyplot as plt\n",
        "%matplotlib inline"
      ],
      "execution_count": null,
      "outputs": []
    },
    {
      "cell_type": "code",
      "metadata": {
        "id": "QqgU5_sVkCN6"
      },
      "source": [
        "import tensorflow.compat.v1 as tf\n",
        "tf.compat.v1.disable_eager_execution()"
      ],
      "execution_count": null,
      "outputs": []
    },
    {
      "cell_type": "markdown",
      "metadata": {
        "id": "uHSz8325lvHs"
      },
      "source": [
        "## Basic exercise"
      ]
    },
    {
      "cell_type": "code",
      "metadata": {
        "id": "DrAXrSlHl8RU",
        "outputId": "ab40b620-2ac2-4b83-f3a7-e7c85f0f9454",
        "colab": {
          "base_uri": "https://localhost:8080/"
        }
      },
      "source": [
        "a, b, c = 1., 2., 3.\n",
        "a + b\n",
        "np.array([1,2,3]) + np.array([4,5,6])"
      ],
      "execution_count": null,
      "outputs": [
        {
          "output_type": "execute_result",
          "data": {
            "text/plain": [
              "array([5, 7, 9])"
            ]
          },
          "metadata": {
            "tags": []
          },
          "execution_count": 26
        }
      ]
    },
    {
      "cell_type": "code",
      "metadata": {
        "id": "HmoQCdRcobrv",
        "outputId": "f0b1f18b-67df-4f87-9fb2-43fcce6dae5e",
        "colab": {
          "base_uri": "https://localhost:8080/"
        }
      },
      "source": [
        "x0 = tf.constant(1.)\n",
        "x1 = tf.constant([1., 2., 3., 4.])   # rank=1, dim=4\n",
        "x2 = tf.constant([[1,2,1],           # rank=2\n",
        "                  [3,4,2]], dtype='float32')\n",
        "x3 = tf.constant([[[1,2],           # rank=3\n",
        "                   [3,4]],\n",
        "\n",
        "                  [[5,6],\n",
        "                   [7,8]]], dtype='float32')\n",
        "x0, x1, x2, x3"
      ],
      "execution_count": null,
      "outputs": [
        {
          "output_type": "execute_result",
          "data": {
            "text/plain": [
              "(<tf.Tensor 'Const_25:0' shape=() dtype=float32>,\n",
              " <tf.Tensor 'Const_26:0' shape=(4,) dtype=float32>,\n",
              " <tf.Tensor 'Const_27:0' shape=(2, 3) dtype=float32>,\n",
              " <tf.Tensor 'Const_28:0' shape=(2, 2, 2) dtype=float32>)"
            ]
          },
          "metadata": {
            "tags": []
          },
          "execution_count": 28
        }
      ]
    },
    {
      "cell_type": "code",
      "metadata": {
        "id": "3AfuY5V5o1fp",
        "outputId": "df9b6bda-b29e-4d86-9cb5-3d2b9882c4ea",
        "colab": {
          "base_uri": "https://localhost:8080/"
        }
      },
      "source": [
        "x4 = tf.constant([1., 2., 3., 4.])\n",
        "x5 = tf.constant([5., 6., 7., 8.])\n",
        "result1 = tf.multiply(x4, x5)\n",
        "result2 = x4 * x5\n",
        "print(result1, result2)"
      ],
      "execution_count": null,
      "outputs": [
        {
          "output_type": "stream",
          "text": [
            "Tensor(\"Mul_2:0\", shape=(4,), dtype=float32) Tensor(\"mul_3:0\", shape=(4,), dtype=float32)\n"
          ],
          "name": "stdout"
        }
      ]
    },
    {
      "cell_type": "code",
      "metadata": {
        "id": "LXnvZrbOr00Z",
        "outputId": "1b226d82-2294-4827-cfb8-92673a89587d",
        "colab": {
          "base_uri": "https://localhost:8080/"
        }
      },
      "source": [
        "sess = tf.Session()\n",
        "print(sess.run([result1, result2]))\n",
        "sess.close()"
      ],
      "execution_count": null,
      "outputs": [
        {
          "output_type": "stream",
          "text": [
            "[array([ 5., 12., 21., 32.], dtype=float32), array([ 5., 12., 21., 32.], dtype=float32)]\n"
          ],
          "name": "stdout"
        }
      ]
    },
    {
      "cell_type": "code",
      "metadata": {
        "id": "RtFbNn38-97c",
        "outputId": "fa56aa4f-2317-4c1b-cf58-cd36026fa99e",
        "colab": {
          "base_uri": "https://localhost:8080/"
        }
      },
      "source": [
        "with tf.Session() as sess:\n",
        "    output1 = sess.run([result1, result2])\n",
        "    output2 = [result1.eval(), result2.eval()]\n",
        "output1, output2"
      ],
      "execution_count": null,
      "outputs": [
        {
          "output_type": "execute_result",
          "data": {
            "text/plain": [
              "([array([ 5., 12., 21., 32.], dtype=float32),\n",
              "  array([ 5., 12., 21., 32.], dtype=float32)],\n",
              " [array([ 5., 12., 21., 32.], dtype=float32),\n",
              "  array([ 5., 12., 21., 32.], dtype=float32)])"
            ]
          },
          "metadata": {
            "tags": []
          },
          "execution_count": 40
        }
      ]
    },
    {
      "cell_type": "code",
      "metadata": {
        "id": "BPZMH8AB_k9-"
      },
      "source": [
        "# variables\n",
        "v1 = tf.Variable('Hello')\n",
        "v2 = tf.Variable(450)\n",
        "v3 = tf.random.normal([2])\n",
        "v3_2 = tf.random.normal((2,))"
      ],
      "execution_count": null,
      "outputs": []
    },
    {
      "cell_type": "code",
      "metadata": {
        "id": "eAGCfYbi_11W",
        "outputId": "45b69132-7b2c-4f4b-e902-fc8db029c618",
        "colab": {
          "base_uri": "https://localhost:8080/"
        }
      },
      "source": [
        "v1, v2, v3, v3_2"
      ],
      "execution_count": null,
      "outputs": [
        {
          "output_type": "execute_result",
          "data": {
            "text/plain": [
              "(<tf.Variable 'Variable_8:0' shape=() dtype=string>,\n",
              " <tf.Variable 'Variable_9:0' shape=() dtype=int32>,\n",
              " <tf.Tensor 'random_normal_7:0' shape=(2,) dtype=float32>,\n",
              " <tf.Tensor 'random_normal_8:0' shape=(2,) dtype=float32>)"
            ]
          },
          "metadata": {
            "tags": []
          },
          "execution_count": 49
        }
      ]
    },
    {
      "cell_type": "code",
      "metadata": {
        "id": "-73ojCukBrGJ"
      },
      "source": [
        "data1 = tf.Variable([1,2])\n",
        "data2 = tf.Variable([1., 2.])\n",
        "data3 = tf.Variable([[False, True], [False, False]], dtype=bool)\n",
        "data4 = tf.Variable([[1,2], [3,4], [5,6], [7,8]], tf.int32)"
      ],
      "execution_count": null,
      "outputs": []
    },
    {
      "cell_type": "code",
      "metadata": {
        "id": "0HzRrsYkDoSa",
        "outputId": "667dd3de-4bc1-4d37-b05f-eca79d24d239",
        "colab": {
          "base_uri": "https://localhost:8080/"
        }
      },
      "source": [
        "data1, data2, data3, data4"
      ],
      "execution_count": null,
      "outputs": [
        {
          "output_type": "execute_result",
          "data": {
            "text/plain": [
              "(<tf.Variable 'Variable_10:0' shape=(2,) dtype=int32>,\n",
              " <tf.Variable 'Variable_11:0' shape=(2,) dtype=float32>,\n",
              " <tf.Variable 'Variable_12:0' shape=(2, 2) dtype=bool>,\n",
              " <tf.Variable 'Variable_13:0' shape=(4, 2) dtype=int32>)"
            ]
          },
          "metadata": {
            "tags": []
          },
          "execution_count": 51
        }
      ]
    },
    {
      "cell_type": "code",
      "metadata": {
        "id": "1GOp85FXEbeq",
        "outputId": "d90821d2-e1f2-4358-96a0-f6dc8b90dcf3",
        "colab": {
          "base_uri": "https://localhost:8080/"
        }
      },
      "source": [
        "data4.shape"
      ],
      "execution_count": null,
      "outputs": [
        {
          "output_type": "execute_result",
          "data": {
            "text/plain": [
              "TensorShape([4, 2])"
            ]
          },
          "metadata": {
            "tags": []
          },
          "execution_count": 52
        }
      ]
    },
    {
      "cell_type": "code",
      "metadata": {
        "id": "CbAKhRKOEkJM",
        "outputId": "0e97beac-09f9-4a16-e722-779238a20d58",
        "colab": {
          "base_uri": "https://localhost:8080/"
        }
      },
      "source": [
        "r = tf.rank(data4)\n",
        "with tf.Session() as sess:\n",
        "    print(sess.run(r))\n"
      ],
      "execution_count": null,
      "outputs": [
        {
          "output_type": "stream",
          "text": [
            "2\n"
          ],
          "name": "stdout"
        }
      ]
    },
    {
      "cell_type": "code",
      "metadata": {
        "id": "gD_fDan6EwfC",
        "outputId": "dc6e7e38-0f0e-47b8-c31a-ef4594eae8b6",
        "colab": {
          "base_uri": "https://localhost:8080/"
        }
      },
      "source": [
        "t1 = tf.ones([3,4,5])\n",
        "t2 = tf.reshape(t1, [2,3,5,2])\n",
        "t1, t2"
      ],
      "execution_count": null,
      "outputs": [
        {
          "output_type": "execute_result",
          "data": {
            "text/plain": [
              "(<tf.Tensor 'ones_1:0' shape=(3, 4, 5) dtype=float32>,\n",
              " <tf.Tensor 'Reshape:0' shape=(2, 3, 5, 2) dtype=float32>)"
            ]
          },
          "metadata": {
            "tags": []
          },
          "execution_count": 56
        }
      ]
    },
    {
      "cell_type": "code",
      "metadata": {
        "id": "rbeQr0FPFdai",
        "outputId": "e3a7bc68-8d9d-4af8-d35c-4e0f9ab56f59",
        "colab": {
          "base_uri": "https://localhost:8080/"
        }
      },
      "source": [
        "with tf.Session() as sess:\n",
        "    print(sess.run([t1, t2]))"
      ],
      "execution_count": null,
      "outputs": [
        {
          "output_type": "stream",
          "text": [
            "[array([[[1., 1., 1., 1., 1.],\n",
            "        [1., 1., 1., 1., 1.],\n",
            "        [1., 1., 1., 1., 1.],\n",
            "        [1., 1., 1., 1., 1.]],\n",
            "\n",
            "       [[1., 1., 1., 1., 1.],\n",
            "        [1., 1., 1., 1., 1.],\n",
            "        [1., 1., 1., 1., 1.],\n",
            "        [1., 1., 1., 1., 1.]],\n",
            "\n",
            "       [[1., 1., 1., 1., 1.],\n",
            "        [1., 1., 1., 1., 1.],\n",
            "        [1., 1., 1., 1., 1.],\n",
            "        [1., 1., 1., 1., 1.]]], dtype=float32), array([[[[1., 1.],\n",
            "         [1., 1.],\n",
            "         [1., 1.],\n",
            "         [1., 1.],\n",
            "         [1., 1.]],\n",
            "\n",
            "        [[1., 1.],\n",
            "         [1., 1.],\n",
            "         [1., 1.],\n",
            "         [1., 1.],\n",
            "         [1., 1.]],\n",
            "\n",
            "        [[1., 1.],\n",
            "         [1., 1.],\n",
            "         [1., 1.],\n",
            "         [1., 1.],\n",
            "         [1., 1.]]],\n",
            "\n",
            "\n",
            "       [[[1., 1.],\n",
            "         [1., 1.],\n",
            "         [1., 1.],\n",
            "         [1., 1.],\n",
            "         [1., 1.]],\n",
            "\n",
            "        [[1., 1.],\n",
            "         [1., 1.],\n",
            "         [1., 1.],\n",
            "         [1., 1.],\n",
            "         [1., 1.]],\n",
            "\n",
            "        [[1., 1.],\n",
            "         [1., 1.],\n",
            "         [1., 1.],\n",
            "         [1., 1.],\n",
            "         [1., 1.]]]], dtype=float32)]\n"
          ],
          "name": "stdout"
        }
      ]
    },
    {
      "cell_type": "markdown",
      "metadata": {
        "id": "dZi_-rbTF-fq"
      },
      "source": [
        "## linear regression using GD"
      ]
    },
    {
      "cell_type": "code",
      "metadata": {
        "id": "tFu-vcqfHN0h",
        "outputId": "5169d452-a685-4e03-ca06-b39f662e01ab",
        "colab": {
          "base_uri": "https://localhost:8080/",
          "height": 283
        }
      },
      "source": [
        "n = 100\n",
        "x = np.random.randn(n)\n",
        "y = 0.7 * x + 0.7    # w = 0.7, b = 0.7\n",
        "y = y + np.random.randn(n) * 0.5\n",
        "\n",
        "plt.scatter(x,y)"
      ],
      "execution_count": null,
      "outputs": [
        {
          "output_type": "execute_result",
          "data": {
            "text/plain": [
              "<matplotlib.collections.PathCollection at 0x7fe017314a20>"
            ]
          },
          "metadata": {
            "tags": []
          },
          "execution_count": 65
        },
        {
          "output_type": "display_data",
          "data": {
            "image/png": "[encoded data removed]",
            "text/plain": [
              "<Figure size 432x288 with 1 Axes>"
            ]
          },
          "metadata": {
            "tags": [],
            "needs_background": "light"
          }
        }
      ]
    },
    {
      "cell_type": "markdown",
      "metadata": {
        "id": "OlNyGiKaHqRx"
      },
      "source": [
        "### numpy"
      ]
    },
    {
      "cell_type": "code",
      "metadata": {
        "id": "5gLt47O6H4Eg",
        "outputId": "52c679c9-8efe-4026-888e-2b6e3909d756",
        "colab": {
          "base_uri": "https://localhost:8080/",
          "height": 299
        }
      },
      "source": [
        "w , b = np.random.randn(), np.random.randn()\n",
        "\n",
        "lr = 0.02\n",
        "n_epoch = 300\n",
        "lossHistory = []\n",
        "\n",
        "for i in range(n_epoch):\n",
        "    y_pred = w * x + b\n",
        "    error = ((y_pred - y)**2).mean()\n",
        "\n",
        "    w = w - lr * ((y_pred - y)*x).mean()\n",
        "    b = b - lr * (y_pred - y).mean()\n",
        "\n",
        "    lossHistory.append(error)\n",
        "\n",
        "print(w, b)\n",
        "plt.plot(lossHistory)\n",
        "\n"
      ],
      "execution_count": null,
      "outputs": [
        {
          "output_type": "stream",
          "text": [
            "0.7193785206481322 0.7412906317980205\n"
          ],
          "name": "stdout"
        },
        {
          "output_type": "execute_result",
          "data": {
            "text/plain": [
              "[<matplotlib.lines.Line2D at 0x7fe0174d2240>]"
            ]
          },
          "metadata": {
            "tags": []
          },
          "execution_count": 61
        },
        {
          "output_type": "display_data",
          "data": {
            "image/png": "[encoded data removed]",
            "text/plain": [
              "<Figure size 432x288 with 1 Axes>"
            ]
          },
          "metadata": {
            "tags": [],
            "needs_background": "light"
          }
        }
      ]
    },
    {
      "cell_type": "markdown",
      "metadata": {
        "id": "GqcUPOMsJbKI"
      },
      "source": [
        "### tensorflow 1.x"
      ]
    },
    {
      "cell_type": "code",
      "metadata": {
        "id": "37msBNI3SWTQ",
        "outputId": "c9599e67-a4e2-4084-9c78-4f0f69c4a7b8",
        "colab": {
          "base_uri": "https://localhost:8080/",
          "height": 302
        }
      },
      "source": [
        "import numpy as np\n",
        "import tensorflow.compat.v1 as tf\n",
        "tf.compat.v1.disable_eager_execution()\n",
        "\n",
        "n = 100\n",
        "x = np.random.randn(n)\n",
        "y = 0.7 * x + 0.7    # w = 0.7, b = 0.7\n",
        "y = y + np.random.randn(n) * 0.5\n",
        "\n",
        "X = tf.placeholder(\"float\")\n",
        "Y = tf.placeholder(\"float\")\n",
        "\n",
        "W = tf.Variable(5.0)\n",
        "b = tf.Variable(-1.0)\n",
        "\n",
        "# Graph\n",
        "y_pred = X * W + b       # hypothesis\n",
        "cost = tf.reduce_mean(tf.square(y_pred - Y))\n",
        "\n",
        "learning_rate = 0.02\n",
        "W_grad = tf.reduce_mean((y_pred - Y) * X)\n",
        "b_grad = tf.reduce_mean(y_pred - Y) \n",
        "\n",
        "W_desc = W - learning_rate * W_grad\n",
        "b_desc = b - learning_rate * b_grad\n",
        "\n",
        "W_update = W.assign(W_desc)\n",
        "b_update = b.assign(b_desc)\n",
        "\n",
        "lossHistory = []\n",
        "\n",
        "with tf.Session() as sess:\n",
        "    sess.run(tf.global_variables_initializer())\n",
        "    for i in range(300):\n",
        "        sess.run([W_update, b_update], feed_dict = {X: x, Y: y})\n",
        "        cost_val, W_val, b_val = sess.run([cost, W, b], feed_dict = {X: x, Y: y})\n",
        "        lossHistory.append(cost_val)\n",
        "\n",
        "print(cost_val, W_val, b_val)\n",
        "plt.plot(lossHistory)\n",
        "\n"
      ],
      "execution_count": null,
      "outputs": [
        {
          "output_type": "stream",
          "text": [
            "0.26257503 0.7454657 0.65191734\n"
          ],
          "name": "stdout"
        },
        {
          "output_type": "execute_result",
          "data": {
            "text/plain": [
              "[<matplotlib.lines.Line2D at 0x7ff14d7a6748>]"
            ]
          },
          "metadata": {
            "tags": []
          },
          "execution_count": 10
        },
        {
          "output_type": "display_data",
          "data": {
            "image/png": "[encoded data removed]",
            "text/plain": [
              "<Figure size 432x288 with 1 Axes>"
            ]
          },
          "metadata": {
            "tags": [],
            "needs_background": "light"
          }
        }
      ]
    },
    {
      "cell_type": "code",
      "metadata": {
        "id": "zNTCOwMOUeQK",
        "outputId": "62865378-6172-4bd0-e994-63447d9874f8",
        "colab": {
          "base_uri": "https://localhost:8080/",
          "height": 300
        }
      },
      "source": [
        "import numpy as np\n",
        "import tensorflow.compat.v1 as tf\n",
        "tf.compat.v1.disable_eager_execution()\n",
        "\n",
        "n = 100\n",
        "x = np.random.randn(n)\n",
        "y = 0.7 * x + 0.7    # w = 0.7, b = 0.7\n",
        "y = y + np.random.randn(n) * 0.5\n",
        "\n",
        "X = tf.placeholder(\"float\")\n",
        "Y = tf.placeholder(\"float\")\n",
        "\n",
        "W = tf.Variable(5.0)\n",
        "b = tf.Variable(-1.0)\n",
        "\n",
        "# Graph\n",
        "y_pred = X * W + b       # hypothesis\n",
        "cost = tf.reduce_mean(tf.square(y_pred - Y))\n",
        "\n",
        "#############\n",
        "optimizer = tf.train.GradientDescentOptimizer(learning_rate=0.01)\n",
        "train = optimizer.minimize(cost)\n",
        "#############\n",
        "\n",
        "lossHistory = []\n",
        "\n",
        "with tf.Session() as sess:\n",
        "    sess.run(tf.global_variables_initializer())\n",
        "    for i in range(300):\n",
        "        sess.run(train, feed_dict = {X: x, Y: y})\n",
        "        cost_val, W_val, b_val = sess.run([cost, W, b], feed_dict = {X: x, Y: y})\n",
        "        lossHistory.append(cost_val)\n",
        "\n",
        "print(cost_val, W_val, b_val)\n",
        "plt.plot(lossHistory)"
      ],
      "execution_count": null,
      "outputs": [
        {
          "output_type": "stream",
          "text": [
            "0.2816978 0.7309104 0.6664923\n"
          ],
          "name": "stdout"
        },
        {
          "output_type": "execute_result",
          "data": {
            "text/plain": [
              "[<matplotlib.lines.Line2D at 0x7ff14d29ac50>]"
            ]
          },
          "metadata": {
            "tags": []
          },
          "execution_count": 17
        },
        {
          "output_type": "display_data",
          "data": {
            "image/png": "[encoded data removed]",
            "text/plain": [
              "<Figure size 432x288 with 1 Axes>"
            ]
          },
          "metadata": {
            "tags": [],
            "needs_background": "light"
          }
        }
      ]
    },
    {
      "cell_type": "code",
      "metadata": {
        "id": "Hw6LR23RO7b7",
        "outputId": "c8ea24ce-fce5-4d93-90a7-7ce4746814a3",
        "colab": {
          "base_uri": "https://localhost:8080/",
          "height": 283
        }
      },
      "source": [
        "plt.scatter(x, y)\n",
        "xx = np.linspace(-2,3, 100)\n",
        "yy = W_val * xx + b_val\n",
        "plt.plot(xx, yy, c='r')"
      ],
      "execution_count": null,
      "outputs": [
        {
          "output_type": "execute_result",
          "data": {
            "text/plain": [
              "[<matplotlib.lines.Line2D at 0x7ff14d192c88>]"
            ]
          },
          "metadata": {
            "tags": []
          },
          "execution_count": 21
        },
        {
          "output_type": "display_data",
          "data": {
            "image/png": "[encoded data removed]",
            "text/plain": [
              "<Figure size 432x288 with 1 Axes>"
            ]
          },
          "metadata": {
            "tags": [],
            "needs_background": "light"
          }
        }
      ]
    },
    {
      "cell_type": "code",
      "metadata": {
        "id": "nSatxr-rZWYn"
      },
      "source": [
        ""
      ],
      "execution_count": null,
      "outputs": []
    }
  ]
}