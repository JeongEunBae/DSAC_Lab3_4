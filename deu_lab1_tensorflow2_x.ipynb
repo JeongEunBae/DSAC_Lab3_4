{
  "nbformat": 4,
  "nbformat_minor": 0,
  "metadata": {
    "colab": {
      "name": "deu_lab1_tensorflow2_x.ipynb",
      "provenance": [],
      "collapsed_sections": [],
      "authorship_tag": "ABX9TyNbsGHDZZcdaIFB/gcDTbIn",
      "include_colab_link": true
    },
    "kernelspec": {
      "name": "python3",
      "display_name": "Python 3"
    },
    "accelerator": "GPU"
  },
  "cells": [
    {
      "cell_type": "markdown",
      "metadata": {
        "id": "view-in-github",
        "colab_type": "text"
      },
      "source": [
        "<a href=\"https://colab.research.google.com/github/rtajeong/DSAC_Lab3_4/blob/master/deu_lab1_tensorflow2_x.ipynb\" target=\"_parent\"><img src=\"https://colab.research.google.com/assets/colab-badge.svg\" alt=\"Open In Colab\"/></a>"
      ]
    },
    {
      "cell_type": "markdown",
      "metadata": {
        "id": "1o-R-EFja4Y_"
      },
      "source": [
        "# Tensorflow 2.0"
      ]
    },
    {
      "cell_type": "code",
      "metadata": {
        "id": "jx9XS3wxaj2D"
      },
      "source": [
        "import numpy as np\n",
        "import matplotlib.pyplot as plt\n",
        "%matplotlib inline\n",
        "import tensorflow as tf"
      ],
      "execution_count": null,
      "outputs": []
    },
    {
      "cell_type": "code",
      "metadata": {
        "id": "B01xIb1Fa91k",
        "outputId": "92dcb9f5-a988-4af3-d9a7-625e1e889101",
        "colab": {
          "base_uri": "https://localhost:8080/",
          "height": 283
        }
      },
      "source": [
        "n = 100\n",
        "np.random.seed(42)\n",
        "x = np.random.randn(n)\n",
        "y = 0.7 * x + 0.7    # w = 0.7, b = 0.7\n",
        "y = y + np.random.randn(n) * 0.5\n",
        "\n",
        "plt.scatter(x,y)"
      ],
      "execution_count": null,
      "outputs": [
        {
          "output_type": "execute_result",
          "data": {
            "text/plain": [
              "<matplotlib.collections.PathCollection at 0x7f79925e6668>"
            ]
          },
          "metadata": {
            "tags": []
          },
          "execution_count": 23
        },
        {
          "output_type": "display_data",
          "data": {
            "image/png": "[encoded data removed]",
            "text/plain": [
              "<Figure size 432x288 with 1 Axes>"
            ]
          },
          "metadata": {
            "tags": [],
            "needs_background": "light"
          }
        }
      ]
    },
    {
      "cell_type": "code",
      "metadata": {
        "id": "vU_uMUccbIDO",
        "outputId": "e0f0b1e1-6e43-4196-c1d6-186f18c66707",
        "colab": {
          "base_uri": "https://localhost:8080/",
          "height": 299
        }
      },
      "source": [
        "W, b = tf.Variable(5.0), tf.Variable(-1.0)  # randomly chosen\n",
        "\n",
        "lossHistory = []\n",
        "learning_rate = 0.1\n",
        "\n",
        "for i in range(500):\n",
        "    y_pred = W * x + b\n",
        "    cost = tf.reduce_mean(tf.square(y_pred - y))\n",
        "\n",
        "    W_grad = tf.reduce_mean((y_pred - y) * x)\n",
        "    b_grad = tf.reduce_mean(y_pred - y) \n",
        "\n",
        "    W.assign_sub(learning_rate * W_grad)\n",
        "    b.assign_sub(learning_rate * b_grad)\n",
        "\n",
        "    lossHistory.append(cost)\n",
        "\n",
        "print(i, \": \", W.numpy(), b.numpy())\n",
        "plt.plot(lossHistory)"
      ],
      "execution_count": null,
      "outputs": [
        {
          "output_type": "stream",
          "text": [
            "499 :  0.6283718 0.7037142\n"
          ],
          "name": "stdout"
        },
        {
          "output_type": "execute_result",
          "data": {
            "text/plain": [
              "[<matplotlib.lines.Line2D at 0x7f79925ba9b0>]"
            ]
          },
          "metadata": {
            "tags": []
          },
          "execution_count": 24
        },
        {
          "output_type": "display_data",
          "data": {
            "image/png": "[encoded data removed]",
            "text/plain": [
              "<Figure size 432x288 with 1 Axes>"
            ]
          },
          "metadata": {
            "tags": [],
            "needs_background": "light"
          }
        }
      ]
    },
    {
      "cell_type": "code",
      "metadata": {
        "id": "jW2Vw1wAeW9c",
        "outputId": "b1e41f46-6671-4e18-c74f-86f79af60c43",
        "colab": {
          "base_uri": "https://localhost:8080/",
          "height": 299
        }
      },
      "source": [
        "W, b = tf.Variable(5.0), tf.Variable(-1.0)  # randomly chosen\n",
        "\n",
        "lossHistory = []\n",
        "learning_rate = 0.01\n",
        "\n",
        "for i in range(500):\n",
        "    with tf.GradientTape() as tape:\n",
        "        y_pred = W * x + b\n",
        "        cost = tf.reduce_mean(tf.square(y_pred - y))\n",
        "\n",
        "    W_grad, b_grad = tape.gradient(cost, [W, b])\n",
        "    # W_grad = tf.reduce_mean((y_pred - y) * x)\n",
        "    # b_grad = tf.reduce_mean(y_pred - y) \n",
        "\n",
        "    W.assign_sub(learning_rate * W_grad)\n",
        "    b.assign_sub(learning_rate * b_grad)\n",
        "\n",
        "    lossHistory.append(cost)\n",
        "\n",
        "print(i, \": \", W.numpy(), b.numpy())\n",
        "plt.plot(lossHistory)"
      ],
      "execution_count": null,
      "outputs": [
        {
          "output_type": "stream",
          "text": [
            "499 :  0.6295519 0.704174\n"
          ],
          "name": "stdout"
        },
        {
          "output_type": "execute_result",
          "data": {
            "text/plain": [
              "[<matplotlib.lines.Line2D at 0x7f799251ddd8>]"
            ]
          },
          "metadata": {
            "tags": []
          },
          "execution_count": 25
        },
        {
          "output_type": "display_data",
          "data": {
            "image/png": "[encoded data removed]",
            "text/plain": [
              "<Figure size 432x288 with 1 Axes>"
            ]
          },
          "metadata": {
            "tags": [],
            "needs_background": "light"
          }
        }
      ]
    },
    {
      "cell_type": "markdown",
      "metadata": {
        "id": "9UEQbJaYirNx"
      },
      "source": [
        "### Linear Regression using Keras"
      ]
    },
    {
      "cell_type": "code",
      "metadata": {
        "id": "_6-hDeA9iq6K"
      },
      "source": [
        "from keras.models import Sequential\n",
        "from keras.layers.core import Dense, Flatten\n",
        "from keras.optimizers import SGD"
      ],
      "execution_count": null,
      "outputs": []
    },
    {
      "cell_type": "code",
      "metadata": {
        "id": "w-JyvcqFi_2X",
        "outputId": "fb22c818-c601-4559-eb91-d45001950ed1",
        "colab": {
          "base_uri": "https://localhost:8080/"
        }
      },
      "source": [
        "n = 1000\n",
        "np.random.seed(42)\n",
        "x = np.random.randn(n)\n",
        "y = 0.7 * x + 0.7    # w = 0.7, b = 0.7\n",
        "y = y + np.random.randn(n) * 0.5\n",
        "\n",
        "model = Sequential()\n",
        "model.add(Dense(1, input_shape=(1,), activation='linear'))\n",
        "model.summary()\n",
        "\n",
        "model.compile(optimizer=SGD(learning_rate=0.1), loss=['mse'], metrics=[\"mae\"])\n",
        "history = model.fit(x, y, epochs=300, verbose=0)"
      ],
      "execution_count": null,
      "outputs": [
        {
          "output_type": "stream",
          "text": [
            "Model: \"sequential_2\"\n",
            "_________________________________________________________________\n",
            "Layer (type)                 Output Shape              Param #   \n",
            "=================================================================\n",
            "dense_4 (Dense)              (None, 1)                 2         \n",
            "=================================================================\n",
            "Total params: 2\n",
            "Trainable params: 2\n",
            "Non-trainable params: 0\n",
            "_________________________________________________________________\n"
          ],
          "name": "stdout"
        }
      ]
    },
    {
      "cell_type": "code",
      "metadata": {
        "id": "EbNI5BiXtyFK",
        "outputId": "5d9ee91f-a3d1-442b-dfb5-f37e73313f1a",
        "colab": {
          "base_uri": "https://localhost:8080/",
          "height": 282
        }
      },
      "source": [
        "plt.subplot(1,2,1)\n",
        "plt.plot(history.history['loss'])\n",
        "plt.subplot(1,2,2)\n",
        "plt.plot(history.history['mae'])"
      ],
      "execution_count": null,
      "outputs": [
        {
          "output_type": "execute_result",
          "data": {
            "text/plain": [
              "[<matplotlib.lines.Line2D at 0x7f16fc229278>]"
            ]
          },
          "metadata": {
            "tags": []
          },
          "execution_count": 9
        },
        {
          "output_type": "display_data",
          "data": {
            "image/png": "[encoded data removed]",
            "text/plain": [
              "<Figure size 432x288 with 2 Axes>"
            ]
          },
          "metadata": {
            "tags": [],
            "needs_background": "light"
          }
        }
      ]
    },
    {
      "cell_type": "code",
      "metadata": {
        "id": "srj7cd6vtrsq",
        "outputId": "0d96bafc-ffe4-4fb1-f3b5-fbf10cd12760",
        "colab": {
          "base_uri": "https://localhost:8080/"
        }
      },
      "source": [
        "model = Sequential()\n",
        "model.add(Dense(2, input_shape=(1,), activation='tanh'))\n",
        "model.add(Dense(2, activation='tanh'))\n",
        "model.add(Dense(1, activation='linear'))\n",
        "model.summary()\n",
        "\n",
        "model.compile(optimizer=SGD(learning_rate=0.01), loss=['mse'], metrics=[\"mae\"])\n",
        "history = model.fit(x, y, epochs=1000, verbose=0)"
      ],
      "execution_count": null,
      "outputs": [
        {
          "output_type": "stream",
          "text": [
            "Model: \"sequential_3\"\n",
            "_________________________________________________________________\n",
            "Layer (type)                 Output Shape              Param #   \n",
            "=================================================================\n",
            "dense_5 (Dense)              (None, 2)                 4         \n",
            "_________________________________________________________________\n",
            "dense_6 (Dense)              (None, 2)                 6         \n",
            "_________________________________________________________________\n",
            "dense_7 (Dense)              (None, 1)                 3         \n",
            "=================================================================\n",
            "Total params: 13\n",
            "Trainable params: 13\n",
            "Non-trainable params: 0\n",
            "_________________________________________________________________\n"
          ],
          "name": "stdout"
        }
      ]
    },
    {
      "cell_type": "code",
      "metadata": {
        "id": "lzyB0hIDok_u",
        "outputId": "cdad0b99-1f7c-4e8a-fa5b-b98b459d1e4d",
        "colab": {
          "base_uri": "https://localhost:8080/",
          "height": 282
        }
      },
      "source": [
        "plt.subplot(1,2,1)\n",
        "plt.plot(history.history['loss'])\n",
        "plt.subplot(1,2,2)\n",
        "plt.plot(history.history['mae'])"
      ],
      "execution_count": null,
      "outputs": [
        {
          "output_type": "execute_result",
          "data": {
            "text/plain": [
              "[<matplotlib.lines.Line2D at 0x7f16fc344b70>]"
            ]
          },
          "metadata": {
            "tags": []
          },
          "execution_count": 7
        },
        {
          "output_type": "display_data",
          "data": {
            "image/png": "[encoded data removed]",
            "text/plain": [
              "<Figure size 432x288 with 2 Axes>"
            ]
          },
          "metadata": {
            "tags": [],
            "needs_background": "light"
          }
        }
      ]
    },
    {
      "cell_type": "markdown",
      "metadata": {
        "id": "GzIt8pO-pctW"
      },
      "source": [
        "# Classification with Keras"
      ]
    },
    {
      "cell_type": "code",
      "metadata": {
        "id": "ULqUEfx_xAMn",
        "outputId": "400e9e98-79d6-402e-d9b4-9adab2a422cf",
        "colab": {
          "base_uri": "https://localhost:8080/",
          "height": 282
        }
      },
      "source": [
        "from sklearn.datasets import make_blobs\n",
        "\n",
        "N = 300\n",
        "(X, y) = make_blobs(n_samples=N, n_features=2, centers=2,\n",
        "                    cluster_std=1.5, random_state=20)\n",
        "\n",
        "plt.scatter(X[:,0], X[:,1], c=y)"
      ],
      "execution_count": null,
      "outputs": [
        {
          "output_type": "execute_result",
          "data": {
            "text/plain": [
              "<matplotlib.collections.PathCollection at 0x7f16ee228390>"
            ]
          },
          "metadata": {
            "tags": []
          },
          "execution_count": 15
        },
        {
          "output_type": "display_data",
          "data": {
            "image/png": "[encoded data removed]",
            "text/plain": [
              "<Figure size 432x288 with 1 Axes>"
            ]
          },
          "metadata": {
            "tags": [],
            "needs_background": "light"
          }
        }
      ]
    },
    {
      "cell_type": "code",
      "metadata": {
        "id": "LZRic6nzyInJ",
        "outputId": "9f5ef609-66a6-4f50-fdd6-774c8398722b",
        "colab": {
          "base_uri": "https://localhost:8080/",
          "height": 454
        }
      },
      "source": [
        "model = Sequential()\n",
        "model.add(Dense(1, input_shape=(2,), activation='sigmoid'))\n",
        "model.summary()\n",
        "\n",
        "model.compile(optimizer=SGD(learning_rate=0.001), \n",
        "              loss=['binary_crossentropy'], \n",
        "              metrics=[\"accuracy\"])\n",
        "history = model.fit(X, y, epochs=300, verbose=0)\n",
        "plt.subplot(1,2,1)\n",
        "plt.plot(history.history['loss'])\n",
        "plt.subplot(1,2,2)\n",
        "plt.plot(history.history['accuracy'])"
      ],
      "execution_count": null,
      "outputs": [
        {
          "output_type": "stream",
          "text": [
            "Model: \"sequential_6\"\n",
            "_________________________________________________________________\n",
            "Layer (type)                 Output Shape              Param #   \n",
            "=================================================================\n",
            "dense_10 (Dense)             (None, 1)                 3         \n",
            "=================================================================\n",
            "Total params: 3\n",
            "Trainable params: 3\n",
            "Non-trainable params: 0\n",
            "_________________________________________________________________\n"
          ],
          "name": "stdout"
        },
        {
          "output_type": "execute_result",
          "data": {
            "text/plain": [
              "[<matplotlib.lines.Line2D at 0x7f16fc2ea940>]"
            ]
          },
          "metadata": {
            "tags": []
          },
          "execution_count": 18
        },
        {
          "output_type": "display_data",
          "data": {
            "image/png": "[encoded data removed]",
            "text/plain": [
              "<Figure size 432x288 with 2 Axes>"
            ]
          },
          "metadata": {
            "tags": [],
            "needs_background": "light"
          }
        }
      ]
    },
    {
      "cell_type": "markdown",
      "metadata": {
        "id": "FnxgNGyK1cLH"
      },
      "source": [
        "# GradientTape()"
      ]
    },
    {
      "cell_type": "code",
      "metadata": {
        "id": "mmeSNMKK1gIG",
        "outputId": "4ea18050-288d-4882-c13f-fed3066ed4c2",
        "colab": {
          "base_uri": "https://localhost:8080/"
        }
      },
      "source": [
        "x = tf.constant(3.0)\n",
        "\n",
        "with tf.GradientTape(persistent=True) as tape:\n",
        "        tape.watch(x)\n",
        "        y = x * x\n",
        "        z = y * y\n",
        "\n",
        "dz_dx = tape.gradient(z, x)\n",
        "dy_dx = tape.gradient(y, x)\n",
        "\n",
        "dz_dx, dy_dx"
      ],
      "execution_count": null,
      "outputs": [
        {
          "output_type": "execute_result",
          "data": {
            "text/plain": [
              "(<tf.Tensor: shape=(), dtype=float32, numpy=108.0>,\n",
              " <tf.Tensor: shape=(), dtype=float32, numpy=6.0>)"
            ]
          },
          "metadata": {
            "tags": []
          },
          "execution_count": 22
        }
      ]
    },
    {
      "cell_type": "code",
      "metadata": {
        "id": "fjXC8NEU4BF2",
        "outputId": "c6ad8bb3-012c-4a6e-8f12-3b5ad82a26d4",
        "colab": {
          "base_uri": "https://localhost:8080/"
        }
      },
      "source": [
        "dir(tf)"
      ],
      "execution_count": null,
      "outputs": [
        {
          "output_type": "execute_result",
          "data": {
            "text/plain": [
              "['AggregationMethod',\n",
              " 'Assert',\n",
              " 'CriticalSection',\n",
              " 'DType',\n",
              " 'DeviceSpec',\n",
              " 'GradientTape',\n",
              " 'Graph',\n",
              " 'IndexedSlices',\n",
              " 'IndexedSlicesSpec',\n",
              " 'Module',\n",
              " 'Operation',\n",
              " 'OptionalSpec',\n",
              " 'RaggedTensor',\n",
              " 'RaggedTensorSpec',\n",
              " 'RegisterGradient',\n",
              " 'SparseTensor',\n",
              " 'SparseTensorSpec',\n",
              " 'Tensor',\n",
              " 'TensorArray',\n",
              " 'TensorArraySpec',\n",
              " 'TensorShape',\n",
              " 'TensorSpec',\n",
              " 'TypeSpec',\n",
              " 'UnconnectedGradients',\n",
              " 'Variable',\n",
              " 'VariableAggregation',\n",
              " 'VariableSynchronization',\n",
              " '_API_MODULE',\n",
              " '_LazyLoader',\n",
              " '__all__',\n",
              " '__builtins__',\n",
              " '__cached__',\n",
              " '__compiler_version__',\n",
              " '__cxx11_abi_flag__',\n",
              " '__doc__',\n",
              " '__file__',\n",
              " '__git_version__',\n",
              " '__loader__',\n",
              " '__monolithic_build__',\n",
              " '__name__',\n",
              " '__operators__',\n",
              " '__package__',\n",
              " '__path__',\n",
              " '__spec__',\n",
              " '__version__',\n",
              " '_absolute_import',\n",
              " '_api',\n",
              " '_compat',\n",
              " '_current_file_location',\n",
              " '_current_module',\n",
              " '_distutils',\n",
              " '_division',\n",
              " '_estimator_module',\n",
              " '_fi',\n",
              " '_inspect',\n",
              " '_ll',\n",
              " '_logging',\n",
              " '_main_dir',\n",
              " '_major_api_version',\n",
              " '_module_dir',\n",
              " '_module_util',\n",
              " '_names_with_underscore',\n",
              " '_os',\n",
              " '_plugin_dir',\n",
              " '_print_function',\n",
              " '_running_from_pip_package',\n",
              " '_s',\n",
              " '_site',\n",
              " '_site_packages_dirs',\n",
              " '_six',\n",
              " '_sys',\n",
              " '_tf2',\n",
              " '_tf_api_dir',\n",
              " '_typing',\n",
              " 'abs',\n",
              " 'acos',\n",
              " 'acosh',\n",
              " 'add',\n",
              " 'add_n',\n",
              " 'argmax',\n",
              " 'argmin',\n",
              " 'argsort',\n",
              " 'as_dtype',\n",
              " 'as_string',\n",
              " 'asin',\n",
              " 'asinh',\n",
              " 'assert_equal',\n",
              " 'assert_greater',\n",
              " 'assert_less',\n",
              " 'assert_rank',\n",
              " 'atan',\n",
              " 'atan2',\n",
              " 'atanh',\n",
              " 'audio',\n",
              " 'autodiff',\n",
              " 'autograph',\n",
              " 'batch_to_space',\n",
              " 'bfloat16',\n",
              " 'bitcast',\n",
              " 'bitwise',\n",
              " 'bool',\n",
              " 'boolean_mask',\n",
              " 'broadcast_dynamic_shape',\n",
              " 'broadcast_static_shape',\n",
              " 'broadcast_to',\n",
              " 'case',\n",
              " 'cast',\n",
              " 'clip_by_global_norm',\n",
              " 'clip_by_norm',\n",
              " 'clip_by_value',\n",
              " 'compat',\n",
              " 'compiler',\n",
              " 'complex',\n",
              " 'complex128',\n",
              " 'complex64',\n",
              " 'concat',\n",
              " 'cond',\n",
              " 'config',\n",
              " 'constant',\n",
              " 'constant_initializer',\n",
              " 'control_dependencies',\n",
              " 'convert_to_tensor',\n",
              " 'core',\n",
              " 'cos',\n",
              " 'cosh',\n",
              " 'cumsum',\n",
              " 'custom_gradient',\n",
              " 'data',\n",
              " 'debugging',\n",
              " 'device',\n",
              " 'distribute',\n",
              " 'divide',\n",
              " 'double',\n",
              " 'dtypes',\n",
              " 'dynamic_partition',\n",
              " 'dynamic_stitch',\n",
              " 'edit_distance',\n",
              " 'eig',\n",
              " 'eigvals',\n",
              " 'einsum',\n",
              " 'ensure_shape',\n",
              " 'equal',\n",
              " 'errors',\n",
              " 'estimator',\n",
              " 'executing_eagerly',\n",
              " 'exp',\n",
              " 'expand_dims',\n",
              " 'experimental',\n",
              " 'extract_volume_patches',\n",
              " 'eye',\n",
              " 'feature_column',\n",
              " 'fill',\n",
              " 'fingerprint',\n",
              " 'float16',\n",
              " 'float32',\n",
              " 'float64',\n",
              " 'floor',\n",
              " 'foldl',\n",
              " 'foldr',\n",
              " 'function',\n",
              " 'gather',\n",
              " 'gather_nd',\n",
              " 'get_logger',\n",
              " 'get_static_value',\n",
              " 'grad_pass_through',\n",
              " 'gradients',\n",
              " 'graph_util',\n",
              " 'greater',\n",
              " 'greater_equal',\n",
              " 'group',\n",
              " 'guarantee_const',\n",
              " 'half',\n",
              " 'hessians',\n",
              " 'histogram_fixed_width',\n",
              " 'histogram_fixed_width_bins',\n",
              " 'identity',\n",
              " 'identity_n',\n",
              " 'image',\n",
              " 'import_graph_def',\n",
              " 'init_scope',\n",
              " 'initializers',\n",
              " 'int16',\n",
              " 'int32',\n",
              " 'int64',\n",
              " 'int8',\n",
              " 'io',\n",
              " 'is_tensor',\n",
              " 'keras',\n",
              " 'less',\n",
              " 'less_equal',\n",
              " 'linalg',\n",
              " 'linspace',\n",
              " 'lite',\n",
              " 'load_library',\n",
              " 'load_op_library',\n",
              " 'logical_and',\n",
              " 'logical_not',\n",
              " 'logical_or',\n",
              " 'lookup',\n",
              " 'losses',\n",
              " 'make_ndarray',\n",
              " 'make_tensor_proto',\n",
              " 'map_fn',\n",
              " 'math',\n",
              " 'matmul',\n",
              " 'matrix_square_root',\n",
              " 'maximum',\n",
              " 'meshgrid',\n",
              " 'metrics',\n",
              " 'minimum',\n",
              " 'mixed_precision',\n",
              " 'mlir',\n",
              " 'multiply',\n",
              " 'name_scope',\n",
              " 'negative',\n",
              " 'nest',\n",
              " 'newaxis',\n",
              " 'nn',\n",
              " 'no_gradient',\n",
              " 'no_op',\n",
              " 'nondifferentiable_batch_function',\n",
              " 'norm',\n",
              " 'not_equal',\n",
              " 'numpy_function',\n",
              " 'one_hot',\n",
              " 'ones',\n",
              " 'ones_initializer',\n",
              " 'ones_like',\n",
              " 'optimizers',\n",
              " 'pad',\n",
              " 'parallel_stack',\n",
              " 'pow',\n",
              " 'print',\n",
              " 'profiler',\n",
              " 'py_function',\n",
              " 'python',\n",
              " 'qint16',\n",
              " 'qint32',\n",
              " 'qint8',\n",
              " 'quantization',\n",
              " 'queue',\n",
              " 'quint16',\n",
              " 'quint8',\n",
              " 'ragged',\n",
              " 'random',\n",
              " 'random_normal_initializer',\n",
              " 'random_uniform_initializer',\n",
              " 'range',\n",
              " 'rank',\n",
              " 'raw_ops',\n",
              " 'realdiv',\n",
              " 'recompute_grad',\n",
              " 'reduce_all',\n",
              " 'reduce_any',\n",
              " 'reduce_logsumexp',\n",
              " 'reduce_max',\n",
              " 'reduce_mean',\n",
              " 'reduce_min',\n",
              " 'reduce_prod',\n",
              " 'reduce_sum',\n",
              " 'register_tensor_conversion_function',\n",
              " 'repeat',\n",
              " 'required_space_to_batch_paddings',\n",
              " 'reshape',\n",
              " 'resource',\n",
              " 'reverse',\n",
              " 'reverse_sequence',\n",
              " 'roll',\n",
              " 'round',\n",
              " 'saturate_cast',\n",
              " 'saved_model',\n",
              " 'scalar_mul',\n",
              " 'scan',\n",
              " 'scatter_nd',\n",
              " 'searchsorted',\n",
              " 'sequence_mask',\n",
              " 'sets',\n",
              " 'shape',\n",
              " 'shape_n',\n",
              " 'sigmoid',\n",
              " 'sign',\n",
              " 'signal',\n",
              " 'sin',\n",
              " 'sinh',\n",
              " 'size',\n",
              " 'slice',\n",
              " 'sort',\n",
              " 'space_to_batch',\n",
              " 'space_to_batch_nd',\n",
              " 'sparse',\n",
              " 'split',\n",
              " 'sqrt',\n",
              " 'square',\n",
              " 'squeeze',\n",
              " 'stack',\n",
              " 'stop_gradient',\n",
              " 'strided_slice',\n",
              " 'string',\n",
              " 'strings',\n",
              " 'subtract',\n",
              " 'summary',\n",
              " 'switch_case',\n",
              " 'sysconfig',\n",
              " 'tan',\n",
              " 'tanh',\n",
              " 'tensor_scatter_nd_add',\n",
              " 'tensor_scatter_nd_max',\n",
              " 'tensor_scatter_nd_min',\n",
              " 'tensor_scatter_nd_sub',\n",
              " 'tensor_scatter_nd_update',\n",
              " 'tensordot',\n",
              " 'test',\n",
              " 'tile',\n",
              " 'timestamp',\n",
              " 'tools',\n",
              " 'tpu',\n",
              " 'train',\n",
              " 'transpose',\n",
              " 'truediv',\n",
              " 'truncatediv',\n",
              " 'truncatemod',\n",
              " 'tuple',\n",
              " 'type_spec_from_value',\n",
              " 'uint16',\n",
              " 'uint32',\n",
              " 'uint64',\n",
              " 'uint8',\n",
              " 'unique',\n",
              " 'unique_with_counts',\n",
              " 'unravel_index',\n",
              " 'unstack',\n",
              " 'variable_creator_scope',\n",
              " 'variant',\n",
              " 'vectorized_map',\n",
              " 'version',\n",
              " 'where',\n",
              " 'while_loop',\n",
              " 'xla',\n",
              " 'zeros',\n",
              " 'zeros_initializer',\n",
              " 'zeros_like']"
            ]
          },
          "metadata": {
            "tags": []
          },
          "execution_count": 24
        }
      ]
    },
    {
      "cell_type": "code",
      "metadata": {
        "id": "KCxNsJWj4DxC"
      },
      "source": [
        ""
      ],
      "execution_count": null,
      "outputs": []
    }
  ]
}