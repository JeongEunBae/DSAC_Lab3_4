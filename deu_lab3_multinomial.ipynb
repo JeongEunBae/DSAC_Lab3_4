{
  "nbformat": 4,
  "nbformat_minor": 0,
  "metadata": {
    "colab": {
      "name": "deu_lab3_multinomial.ipynb",
      "provenance": [],
      "authorship_tag": "ABX9TyMADDyE5T9Tfx26x00v2yHX",
      "include_colab_link": true
    },
    "kernelspec": {
      "name": "python3",
      "display_name": "Python 3"
    }
  },
  "cells": [
    {
      "cell_type": "markdown",
      "metadata": {
        "id": "view-in-github",
        "colab_type": "text"
      },
      "source": [
        "<a href=\"https://colab.research.google.com/github/rtajeong/DSAC_Lab3_4/blob/master/deu_lab3_multinomial.ipynb\" target=\"_parent\"><img src=\"https://colab.research.google.com/assets/colab-badge.svg\" alt=\"Open In Colab\"/></a>"
      ]
    },
    {
      "cell_type": "markdown",
      "metadata": {
        "id": "8aToT7sukFlQ"
      },
      "source": [
        "# Multinomial classification\n",
        "- iris dataset\n",
        "- one-hot encoding\n",
        "- softmax\n",
        "- cross entropy (multi-class)"
      ]
    },
    {
      "cell_type": "code",
      "metadata": {
        "id": "6DUwqXmNfbiE"
      },
      "source": [
        "import numpy as np\n",
        "import tensorflow as tf\n",
        "import matplotlib.pyplot as plt\n",
        "%matplotlib inline\n",
        "import seaborn as sns\n",
        "from keras.models import Sequential, load_model\n",
        "from keras.layers.core import Dense\n",
        "from keras.optimizers import SGD\n",
        "from keras.utils import np_utils\n",
        "from sklearn.preprocessing import LabelEncoder\n",
        "from sklearn.model_selection import train_test_split"
      ],
      "execution_count": 9,
      "outputs": []
    },
    {
      "cell_type": "code",
      "metadata": {
        "id": "hYvpm6f6m65z",
        "outputId": "8b674e7a-136d-4a63-a25e-f97e134ec882",
        "colab": {
          "base_uri": "https://localhost:8080/",
          "height": 203
        }
      },
      "source": [
        "iris_data = sns.load_dataset('iris')\n",
        "iris_data.head()"
      ],
      "execution_count": 5,
      "outputs": [
        {
          "output_type": "execute_result",
          "data": {
            "text/html": [
              "<div>\n",
              "<style scoped>\n",
              "    .dataframe tbody tr th:only-of-type {\n",
              "        vertical-align: middle;\n",
              "    }\n",
              "\n",
              "    .dataframe tbody tr th {\n",
              "        vertical-align: top;\n",
              "    }\n",
              "\n",
              "    .dataframe thead th {\n",
              "        text-align: right;\n",
              "    }\n",
              "</style>\n",
              "<table border=\"1\" class=\"dataframe\">\n",
              "  <thead>\n",
              "    <tr style=\"text-align: right;\">\n",
              "      <th></th>\n",
              "      <th>sepal_length</th>\n",
              "      <th>sepal_width</th>\n",
              "      <th>petal_length</th>\n",
              "      <th>petal_width</th>\n",
              "      <th>species</th>\n",
              "    </tr>\n",
              "  </thead>\n",
              "  <tbody>\n",
              "    <tr>\n",
              "      <th>0</th>\n",
              "      <td>5.1</td>\n",
              "      <td>3.5</td>\n",
              "      <td>1.4</td>\n",
              "      <td>0.2</td>\n",
              "      <td>setosa</td>\n",
              "    </tr>\n",
              "    <tr>\n",
              "      <th>1</th>\n",
              "      <td>4.9</td>\n",
              "      <td>3.0</td>\n",
              "      <td>1.4</td>\n",
              "      <td>0.2</td>\n",
              "      <td>setosa</td>\n",
              "    </tr>\n",
              "    <tr>\n",
              "      <th>2</th>\n",
              "      <td>4.7</td>\n",
              "      <td>3.2</td>\n",
              "      <td>1.3</td>\n",
              "      <td>0.2</td>\n",
              "      <td>setosa</td>\n",
              "    </tr>\n",
              "    <tr>\n",
              "      <th>3</th>\n",
              "      <td>4.6</td>\n",
              "      <td>3.1</td>\n",
              "      <td>1.5</td>\n",
              "      <td>0.2</td>\n",
              "      <td>setosa</td>\n",
              "    </tr>\n",
              "    <tr>\n",
              "      <th>4</th>\n",
              "      <td>5.0</td>\n",
              "      <td>3.6</td>\n",
              "      <td>1.4</td>\n",
              "      <td>0.2</td>\n",
              "      <td>setosa</td>\n",
              "    </tr>\n",
              "  </tbody>\n",
              "</table>\n",
              "</div>"
            ],
            "text/plain": [
              "   sepal_length  sepal_width  petal_length  petal_width species\n",
              "0           5.1          3.5           1.4          0.2  setosa\n",
              "1           4.9          3.0           1.4          0.2  setosa\n",
              "2           4.7          3.2           1.3          0.2  setosa\n",
              "3           4.6          3.1           1.5          0.2  setosa\n",
              "4           5.0          3.6           1.4          0.2  setosa"
            ]
          },
          "metadata": {
            "tags": []
          },
          "execution_count": 5
        }
      ]
    },
    {
      "cell_type": "code",
      "metadata": {
        "id": "usMq4si3nzhg"
      },
      "source": [
        "X, y = iris_data.values[:, :4].astype('float32'), iris_data.values[:,4]"
      ],
      "execution_count": 17,
      "outputs": []
    },
    {
      "cell_type": "code",
      "metadata": {
        "id": "WQO1QYAloKHY"
      },
      "source": [
        "Y_pre = LabelEncoder().fit_transform(y)\n",
        "Y = np_utils.to_categorical(Y_pre)"
      ],
      "execution_count": 18,
      "outputs": []
    },
    {
      "cell_type": "code",
      "metadata": {
        "id": "G07503rnox93",
        "outputId": "c84ea120-a16d-431f-d16b-fd7d3ef5b300",
        "colab": {
          "base_uri": "https://localhost:8080/"
        }
      },
      "source": [
        "X[:3], Y[-3:]"
      ],
      "execution_count": 19,
      "outputs": [
        {
          "output_type": "execute_result",
          "data": {
            "text/plain": [
              "(array([[5.1, 3.5, 1.4, 0.2],\n",
              "        [4.9, 3. , 1.4, 0.2],\n",
              "        [4.7, 3.2, 1.3, 0.2]], dtype=float32), array([[0., 0., 1.],\n",
              "        [0., 0., 1.],\n",
              "        [0., 0., 1.]], dtype=float32))"
            ]
          },
          "metadata": {
            "tags": []
          },
          "execution_count": 19
        }
      ]
    },
    {
      "cell_type": "code",
      "metadata": {
        "id": "kksnW7KVqNHY"
      },
      "source": [
        "X_train, X_test, Y_train, Y_test = train_test_split(X, Y, test_size=0.2)"
      ],
      "execution_count": 25,
      "outputs": []
    },
    {
      "cell_type": "code",
      "metadata": {
        "id": "87bcX0Q7qid_",
        "outputId": "e583043f-20c8-4a5a-93a2-567cc4f3b610",
        "colab": {
          "base_uri": "https://localhost:8080/"
        }
      },
      "source": [
        "X_train.shape, Y_train.shape"
      ],
      "execution_count": 26,
      "outputs": [
        {
          "output_type": "execute_result",
          "data": {
            "text/plain": [
              "((120, 4), (120, 3))"
            ]
          },
          "metadata": {
            "tags": []
          },
          "execution_count": 26
        }
      ]
    },
    {
      "cell_type": "code",
      "metadata": {
        "id": "GBLnJG4dqlZ9",
        "outputId": "bd4bea4f-3fdf-488f-f8d4-bd1159096ed9",
        "colab": {
          "base_uri": "https://localhost:8080/"
        }
      },
      "source": [
        "model = Sequential()\n",
        "model.add(Dense(16, input_shape=(4,), activation='relu'))\n",
        "model.add(Dense(3, activation='softmax'))\n",
        "model.summary()\n",
        "\n",
        "model.compile(optimizer='adam',\n",
        "              loss = 'categorical_crossentropy',\n",
        "              metrics = ['accuracy'])\n",
        "history = model.fit(X_train, Y_train, epochs=200, batch_size=10,\n",
        "                    verbose=0)\n",
        "model.save('iris_model.h5')"
      ],
      "execution_count": 30,
      "outputs": [
        {
          "output_type": "stream",
          "text": [
            "Model: \"sequential_3\"\n",
            "_________________________________________________________________\n",
            "Layer (type)                 Output Shape              Param #   \n",
            "=================================================================\n",
            "dense_6 (Dense)              (None, 16)                80        \n",
            "_________________________________________________________________\n",
            "dense_7 (Dense)              (None, 3)                 51        \n",
            "=================================================================\n",
            "Total params: 131\n",
            "Trainable params: 131\n",
            "Non-trainable params: 0\n",
            "_________________________________________________________________\n"
          ],
          "name": "stdout"
        }
      ]
    },
    {
      "cell_type": "code",
      "metadata": {
        "id": "G4B-2tUntajn",
        "outputId": "cbd38d79-8eec-4f69-9d45-6921c2ae56ec",
        "colab": {
          "base_uri": "https://localhost:8080/"
        }
      },
      "source": [
        "del model\n",
        "model = load_model('iris_model.h5')\n",
        "model.evaluate(X_test, Y_test)"
      ],
      "execution_count": 28,
      "outputs": [
        {
          "output_type": "stream",
          "text": [
            "1/1 [==============================] - 0s 1ms/step - loss: 0.1971 - accuracy: 1.0000\n"
          ],
          "name": "stdout"
        },
        {
          "output_type": "execute_result",
          "data": {
            "text/plain": [
              "[0.19709405303001404, 1.0]"
            ]
          },
          "metadata": {
            "tags": []
          },
          "execution_count": 28
        }
      ]
    },
    {
      "cell_type": "code",
      "metadata": {
        "id": "ecYyH6gtt3Js",
        "outputId": "b3b3e1b4-e29d-41b3-c69b-c958bf9e8b72",
        "colab": {
          "base_uri": "https://localhost:8080/",
          "height": 284
        }
      },
      "source": [
        "plt.subplot(1,2,1)\n",
        "plt.plot(history.history['loss'])\n",
        "plt.subplot(1,2,2)\n",
        "plt.plot(history.history['accuracy'])"
      ],
      "execution_count": 29,
      "outputs": [
        {
          "output_type": "execute_result",
          "data": {
            "text/plain": [
              "[<matplotlib.lines.Line2D at 0x7f489144fb38>]"
            ]
          },
          "metadata": {
            "tags": []
          },
          "execution_count": 29
        },
        {
          "output_type": "display_data",
          "data": {
            "image/png": "[encoded data removed]",
            "text/plain": [
              "<Figure size 432x288 with 2 Axes>"
            ]
          },
          "metadata": {
            "tags": [],
            "needs_background": "light"
          }
        }
      ]
    },
    {
      "cell_type": "markdown",
      "metadata": {
        "id": "sHteskoIwS9I"
      },
      "source": [
        "# K-Fold Validation"
      ]
    },
    {
      "cell_type": "code",
      "metadata": {
        "id": "68i0k08cwvUN",
        "outputId": "a06f79b4-2429-439c-bc8d-ad2869271fa3",
        "colab": {
          "base_uri": "https://localhost:8080/"
        }
      },
      "source": [
        "from sklearn.model_selection import StratifiedKFold\n",
        "\n",
        "skf = StratifiedKFold(n_splits=10, shuffle=True,random_state=17)\n",
        "cv_scores = []\n",
        "\n",
        "for train_index, test_index in skf.split(X, Y_pre):\n",
        "    model = Sequential()\n",
        "    model.add(Dense(16, input_shape=(4,), activation='relu'))\n",
        "    model.add(Dense(3, activation='softmax'))\n",
        "    \n",
        "    model.compile(optimizer='adam',\n",
        "                  loss = 'categorical_crossentropy',\n",
        "                  metrics = ['accuracy'])\n",
        "    X_train, X_test = X[train_index], X[test_index]\n",
        "    Y_train, Y_test = Y_pre[train_index], Y_pre[test_index]\n",
        "    Y_train_ohe = np_utils.to_categorical(Y_train)\n",
        "    Y_test_ohe = np_utils.to_categorical(Y_test)\n",
        "\n",
        "    model.fit(X_train, Y_train_ohe, epochs=50, batch_size=10, verbose=0)\n",
        "    score = model.evaluate(X_test, Y_test_ohe)\n",
        "    cv_scores.append(score)\n",
        "\n",
        "cv_scores"
      ],
      "execution_count": 51,
      "outputs": [
        {
          "output_type": "stream",
          "text": [
            "WARNING:tensorflow:11 out of the last 11 calls to <function Model.make_test_function.<locals>.test_function at 0x7f4891c97620> triggered tf.function retracing. Tracing is expensive and the excessive number of tracings could be due to (1) creating @tf.function repeatedly in a loop, (2) passing tensors with different shapes, (3) passing Python objects instead of tensors. For (1), please define your @tf.function outside of the loop. For (2), @tf.function has experimental_relax_shapes=True option that relaxes argument shapes that can avoid unnecessary retracing. For (3), please refer to https://www.tensorflow.org/tutorials/customization/performance#python_or_tensor_args and https://www.tensorflow.org/api_docs/python/tf/function for  more details.\n",
            "1/1 [==============================] - 0s 1ms/step - loss: 0.3089 - accuracy: 1.0000\n",
            "WARNING:tensorflow:11 out of the last 11 calls to <function Model.make_test_function.<locals>.test_function at 0x7f488dcfe730> triggered tf.function retracing. Tracing is expensive and the excessive number of tracings could be due to (1) creating @tf.function repeatedly in a loop, (2) passing tensors with different shapes, (3) passing Python objects instead of tensors. For (1), please define your @tf.function outside of the loop. For (2), @tf.function has experimental_relax_shapes=True option that relaxes argument shapes that can avoid unnecessary retracing. For (3), please refer to https://www.tensorflow.org/tutorials/customization/performance#python_or_tensor_args and https://www.tensorflow.org/api_docs/python/tf/function for  more details.\n",
            "1/1 [==============================] - 0s 3ms/step - loss: 0.3314 - accuracy: 1.0000\n",
            "WARNING:tensorflow:11 out of the last 11 calls to <function Model.make_test_function.<locals>.test_function at 0x7f4891c972f0> triggered tf.function retracing. Tracing is expensive and the excessive number of tracings could be due to (1) creating @tf.function repeatedly in a loop, (2) passing tensors with different shapes, (3) passing Python objects instead of tensors. For (1), please define your @tf.function outside of the loop. For (2), @tf.function has experimental_relax_shapes=True option that relaxes argument shapes that can avoid unnecessary retracing. For (3), please refer to https://www.tensorflow.org/tutorials/customization/performance#python_or_tensor_args and https://www.tensorflow.org/api_docs/python/tf/function for  more details.\n",
            "1/1 [==============================] - 0s 1ms/step - loss: 0.3699 - accuracy: 0.9333\n",
            "WARNING:tensorflow:11 out of the last 11 calls to <function Model.make_test_function.<locals>.test_function at 0x7f48908498c8> triggered tf.function retracing. Tracing is expensive and the excessive number of tracings could be due to (1) creating @tf.function repeatedly in a loop, (2) passing tensors with different shapes, (3) passing Python objects instead of tensors. For (1), please define your @tf.function outside of the loop. For (2), @tf.function has experimental_relax_shapes=True option that relaxes argument shapes that can avoid unnecessary retracing. For (3), please refer to https://www.tensorflow.org/tutorials/customization/performance#python_or_tensor_args and https://www.tensorflow.org/api_docs/python/tf/function for  more details.\n",
            "1/1 [==============================] - 0s 3ms/step - loss: 0.4561 - accuracy: 0.8000\n",
            "WARNING:tensorflow:11 out of the last 11 calls to <function Model.make_test_function.<locals>.test_function at 0x7f4887e87840> triggered tf.function retracing. Tracing is expensive and the excessive number of tracings could be due to (1) creating @tf.function repeatedly in a loop, (2) passing tensors with different shapes, (3) passing Python objects instead of tensors. For (1), please define your @tf.function outside of the loop. For (2), @tf.function has experimental_relax_shapes=True option that relaxes argument shapes that can avoid unnecessary retracing. For (3), please refer to https://www.tensorflow.org/tutorials/customization/performance#python_or_tensor_args and https://www.tensorflow.org/api_docs/python/tf/function for  more details.\n",
            "1/1 [==============================] - 0s 1ms/step - loss: 0.4386 - accuracy: 0.9333\n",
            "WARNING:tensorflow:11 out of the last 11 calls to <function Model.make_test_function.<locals>.test_function at 0x7f488a14c2f0> triggered tf.function retracing. Tracing is expensive and the excessive number of tracings could be due to (1) creating @tf.function repeatedly in a loop, (2) passing tensors with different shapes, (3) passing Python objects instead of tensors. For (1), please define your @tf.function outside of the loop. For (2), @tf.function has experimental_relax_shapes=True option that relaxes argument shapes that can avoid unnecessary retracing. For (3), please refer to https://www.tensorflow.org/tutorials/customization/performance#python_or_tensor_args and https://www.tensorflow.org/api_docs/python/tf/function for  more details.\n",
            "1/1 [==============================] - 0s 2ms/step - loss: 0.2708 - accuracy: 1.0000\n",
            "WARNING:tensorflow:11 out of the last 11 calls to <function Model.make_test_function.<locals>.test_function at 0x7f488ee3e158> triggered tf.function retracing. Tracing is expensive and the excessive number of tracings could be due to (1) creating @tf.function repeatedly in a loop, (2) passing tensors with different shapes, (3) passing Python objects instead of tensors. For (1), please define your @tf.function outside of the loop. For (2), @tf.function has experimental_relax_shapes=True option that relaxes argument shapes that can avoid unnecessary retracing. For (3), please refer to https://www.tensorflow.org/tutorials/customization/performance#python_or_tensor_args and https://www.tensorflow.org/api_docs/python/tf/function for  more details.\n",
            "1/1 [==============================] - 0s 2ms/step - loss: 0.4017 - accuracy: 0.8667\n",
            "WARNING:tensorflow:11 out of the last 11 calls to <function Model.make_test_function.<locals>.test_function at 0x7f488b244a60> triggered tf.function retracing. Tracing is expensive and the excessive number of tracings could be due to (1) creating @tf.function repeatedly in a loop, (2) passing tensors with different shapes, (3) passing Python objects instead of tensors. For (1), please define your @tf.function outside of the loop. For (2), @tf.function has experimental_relax_shapes=True option that relaxes argument shapes that can avoid unnecessary retracing. For (3), please refer to https://www.tensorflow.org/tutorials/customization/performance#python_or_tensor_args and https://www.tensorflow.org/api_docs/python/tf/function for  more details.\n",
            "1/1 [==============================] - 0s 6ms/step - loss: 0.4028 - accuracy: 1.0000\n",
            "WARNING:tensorflow:11 out of the last 11 calls to <function Model.make_test_function.<locals>.test_function at 0x7f4895af9f28> triggered tf.function retracing. Tracing is expensive and the excessive number of tracings could be due to (1) creating @tf.function repeatedly in a loop, (2) passing tensors with different shapes, (3) passing Python objects instead of tensors. For (1), please define your @tf.function outside of the loop. For (2), @tf.function has experimental_relax_shapes=True option that relaxes argument shapes that can avoid unnecessary retracing. For (3), please refer to https://www.tensorflow.org/tutorials/customization/performance#python_or_tensor_args and https://www.tensorflow.org/api_docs/python/tf/function for  more details.\n",
            "1/1 [==============================] - 0s 2ms/step - loss: 0.2211 - accuracy: 1.0000\n",
            "WARNING:tensorflow:11 out of the last 11 calls to <function Model.make_test_function.<locals>.test_function at 0x7f48925a1268> triggered tf.function retracing. Tracing is expensive and the excessive number of tracings could be due to (1) creating @tf.function repeatedly in a loop, (2) passing tensors with different shapes, (3) passing Python objects instead of tensors. For (1), please define your @tf.function outside of the loop. For (2), @tf.function has experimental_relax_shapes=True option that relaxes argument shapes that can avoid unnecessary retracing. For (3), please refer to https://www.tensorflow.org/tutorials/customization/performance#python_or_tensor_args and https://www.tensorflow.org/api_docs/python/tf/function for  more details.\n",
            "1/1 [==============================] - 0s 4ms/step - loss: 0.4370 - accuracy: 0.8667\n"
          ],
          "name": "stdout"
        },
        {
          "output_type": "execute_result",
          "data": {
            "text/plain": [
              "[[0.30893269181251526, 1.0],\n",
              " [0.3313716650009155, 1.0],\n",
              " [0.3699333965778351, 0.9333333373069763],\n",
              " [0.4561339318752289, 0.800000011920929],\n",
              " [0.4386020600795746, 0.9333333373069763],\n",
              " [0.27075088024139404, 1.0],\n",
              " [0.4017382264137268, 0.8666666746139526],\n",
              " [0.40283477306365967, 1.0],\n",
              " [0.22110465168952942, 1.0],\n",
              " [0.4370015561580658, 0.8666666746139526]]"
            ]
          },
          "metadata": {
            "tags": []
          },
          "execution_count": 51
        }
      ]
    },
    {
      "cell_type": "markdown",
      "metadata": {
        "id": "v1xWpcSX7XY3"
      },
      "source": [
        "# Callback - checkpoint and early stopping"
      ]
    },
    {
      "cell_type": "code",
      "metadata": {
        "id": "6k5DEbbD7n6U"
      },
      "source": [
        "from keras.callbacks import ModelCheckpoint, EarlyStopping\n",
        "import os\n",
        "import pandas as pd"
      ],
      "execution_count": 53,
      "outputs": []
    },
    {
      "cell_type": "code",
      "metadata": {
        "id": "_fgSj2QR77H9",
        "outputId": "bf8e3b68-275c-49dc-aea0-ef5d656e54a9",
        "colab": {
          "base_uri": "https://localhost:8080/",
          "height": 203
        }
      },
      "source": [
        "df = pd.read_csv('wine.csv', header=None)\n",
        "df.head()"
      ],
      "execution_count": 63,
      "outputs": [
        {
          "output_type": "execute_result",
          "data": {
            "text/html": [
              "<div>\n",
              "<style scoped>\n",
              "    .dataframe tbody tr th:only-of-type {\n",
              "        vertical-align: middle;\n",
              "    }\n",
              "\n",
              "    .dataframe tbody tr th {\n",
              "        vertical-align: top;\n",
              "    }\n",
              "\n",
              "    .dataframe thead th {\n",
              "        text-align: right;\n",
              "    }\n",
              "</style>\n",
              "<table border=\"1\" class=\"dataframe\">\n",
              "  <thead>\n",
              "    <tr style=\"text-align: right;\">\n",
              "      <th></th>\n",
              "      <th>0</th>\n",
              "      <th>1</th>\n",
              "      <th>2</th>\n",
              "      <th>3</th>\n",
              "      <th>4</th>\n",
              "      <th>5</th>\n",
              "      <th>6</th>\n",
              "      <th>7</th>\n",
              "      <th>8</th>\n",
              "      <th>9</th>\n",
              "      <th>10</th>\n",
              "      <th>11</th>\n",
              "      <th>12</th>\n",
              "    </tr>\n",
              "  </thead>\n",
              "  <tbody>\n",
              "    <tr>\n",
              "      <th>0</th>\n",
              "      <td>7.4</td>\n",
              "      <td>0.70</td>\n",
              "      <td>0.00</td>\n",
              "      <td>1.9</td>\n",
              "      <td>0.076</td>\n",
              "      <td>11.0</td>\n",
              "      <td>34.0</td>\n",
              "      <td>0.9978</td>\n",
              "      <td>3.51</td>\n",
              "      <td>0.56</td>\n",
              "      <td>9.4</td>\n",
              "      <td>5</td>\n",
              "      <td>1</td>\n",
              "    </tr>\n",
              "    <tr>\n",
              "      <th>1</th>\n",
              "      <td>7.8</td>\n",
              "      <td>0.88</td>\n",
              "      <td>0.00</td>\n",
              "      <td>2.6</td>\n",
              "      <td>0.098</td>\n",
              "      <td>25.0</td>\n",
              "      <td>67.0</td>\n",
              "      <td>0.9968</td>\n",
              "      <td>3.20</td>\n",
              "      <td>0.68</td>\n",
              "      <td>9.8</td>\n",
              "      <td>5</td>\n",
              "      <td>1</td>\n",
              "    </tr>\n",
              "    <tr>\n",
              "      <th>2</th>\n",
              "      <td>7.8</td>\n",
              "      <td>0.76</td>\n",
              "      <td>0.04</td>\n",
              "      <td>2.3</td>\n",
              "      <td>0.092</td>\n",
              "      <td>15.0</td>\n",
              "      <td>54.0</td>\n",
              "      <td>0.9970</td>\n",
              "      <td>3.26</td>\n",
              "      <td>0.65</td>\n",
              "      <td>9.8</td>\n",
              "      <td>5</td>\n",
              "      <td>1</td>\n",
              "    </tr>\n",
              "    <tr>\n",
              "      <th>3</th>\n",
              "      <td>11.2</td>\n",
              "      <td>0.28</td>\n",
              "      <td>0.56</td>\n",
              "      <td>1.9</td>\n",
              "      <td>0.075</td>\n",
              "      <td>17.0</td>\n",
              "      <td>60.0</td>\n",
              "      <td>0.9980</td>\n",
              "      <td>3.16</td>\n",
              "      <td>0.58</td>\n",
              "      <td>9.8</td>\n",
              "      <td>6</td>\n",
              "      <td>1</td>\n",
              "    </tr>\n",
              "    <tr>\n",
              "      <th>4</th>\n",
              "      <td>7.4</td>\n",
              "      <td>0.70</td>\n",
              "      <td>0.00</td>\n",
              "      <td>1.9</td>\n",
              "      <td>0.076</td>\n",
              "      <td>11.0</td>\n",
              "      <td>34.0</td>\n",
              "      <td>0.9978</td>\n",
              "      <td>3.51</td>\n",
              "      <td>0.56</td>\n",
              "      <td>9.4</td>\n",
              "      <td>5</td>\n",
              "      <td>1</td>\n",
              "    </tr>\n",
              "  </tbody>\n",
              "</table>\n",
              "</div>"
            ],
            "text/plain": [
              "     0     1     2    3      4     5     6       7     8     9    10  11  12\n",
              "0   7.4  0.70  0.00  1.9  0.076  11.0  34.0  0.9978  3.51  0.56  9.4   5   1\n",
              "1   7.8  0.88  0.00  2.6  0.098  25.0  67.0  0.9968  3.20  0.68  9.8   5   1\n",
              "2   7.8  0.76  0.04  2.3  0.092  15.0  54.0  0.9970  3.26  0.65  9.8   5   1\n",
              "3  11.2  0.28  0.56  1.9  0.075  17.0  60.0  0.9980  3.16  0.58  9.8   6   1\n",
              "4   7.4  0.70  0.00  1.9  0.076  11.0  34.0  0.9978  3.51  0.56  9.4   5   1"
            ]
          },
          "metadata": {
            "tags": []
          },
          "execution_count": 63
        }
      ]
    },
    {
      "cell_type": "code",
      "metadata": {
        "id": "LdWNv6W38grd",
        "outputId": "d480e20b-8082-4a17-cc61-ef1b078e805f",
        "colab": {
          "base_uri": "https://localhost:8080/"
        }
      },
      "source": [
        "df_all.shape"
      ],
      "execution_count": 64,
      "outputs": [
        {
          "output_type": "execute_result",
          "data": {
            "text/plain": [
              "(6497, 13)"
            ]
          },
          "metadata": {
            "tags": []
          },
          "execution_count": 64
        }
      ]
    },
    {
      "cell_type": "code",
      "metadata": {
        "id": "Pxf8IBP4_CXF",
        "outputId": "f324966e-83e4-494d-bd22-f4940e40dcd8",
        "colab": {
          "base_uri": "https://localhost:8080/"
        }
      },
      "source": [
        "df_all[12].value_counts()"
      ],
      "execution_count": 65,
      "outputs": [
        {
          "output_type": "execute_result",
          "data": {
            "text/plain": [
              "0    4898\n",
              "1    1599\n",
              "Name: 12, dtype: int64"
            ]
          },
          "metadata": {
            "tags": []
          },
          "execution_count": 65
        }
      ]
    },
    {
      "cell_type": "code",
      "metadata": {
        "id": "CER6slI3_Y-X",
        "outputId": "cd975733-db9b-4c2a-fad8-4d3c829a8898",
        "colab": {
          "base_uri": "https://localhost:8080/",
          "height": 450
        }
      },
      "source": [
        "df_all.describe().T"
      ],
      "execution_count": 66,
      "outputs": [
        {
          "output_type": "execute_result",
          "data": {
            "text/html": [
              "<div>\n",
              "<style scoped>\n",
              "    .dataframe tbody tr th:only-of-type {\n",
              "        vertical-align: middle;\n",
              "    }\n",
              "\n",
              "    .dataframe tbody tr th {\n",
              "        vertical-align: top;\n",
              "    }\n",
              "\n",
              "    .dataframe thead th {\n",
              "        text-align: right;\n",
              "    }\n",
              "</style>\n",
              "<table border=\"1\" class=\"dataframe\">\n",
              "  <thead>\n",
              "    <tr style=\"text-align: right;\">\n",
              "      <th></th>\n",
              "      <th>count</th>\n",
              "      <th>mean</th>\n",
              "      <th>std</th>\n",
              "      <th>min</th>\n",
              "      <th>25%</th>\n",
              "      <th>50%</th>\n",
              "      <th>75%</th>\n",
              "      <th>max</th>\n",
              "    </tr>\n",
              "  </thead>\n",
              "  <tbody>\n",
              "    <tr>\n",
              "      <th>0</th>\n",
              "      <td>6497.0</td>\n",
              "      <td>7.215307</td>\n",
              "      <td>1.296434</td>\n",
              "      <td>3.80000</td>\n",
              "      <td>6.40000</td>\n",
              "      <td>7.00000</td>\n",
              "      <td>7.70000</td>\n",
              "      <td>15.90000</td>\n",
              "    </tr>\n",
              "    <tr>\n",
              "      <th>1</th>\n",
              "      <td>6497.0</td>\n",
              "      <td>0.339666</td>\n",
              "      <td>0.164636</td>\n",
              "      <td>0.08000</td>\n",
              "      <td>0.23000</td>\n",
              "      <td>0.29000</td>\n",
              "      <td>0.40000</td>\n",
              "      <td>1.58000</td>\n",
              "    </tr>\n",
              "    <tr>\n",
              "      <th>2</th>\n",
              "      <td>6497.0</td>\n",
              "      <td>0.318633</td>\n",
              "      <td>0.145318</td>\n",
              "      <td>0.00000</td>\n",
              "      <td>0.25000</td>\n",
              "      <td>0.31000</td>\n",
              "      <td>0.39000</td>\n",
              "      <td>1.66000</td>\n",
              "    </tr>\n",
              "    <tr>\n",
              "      <th>3</th>\n",
              "      <td>6497.0</td>\n",
              "      <td>5.443235</td>\n",
              "      <td>4.757804</td>\n",
              "      <td>0.60000</td>\n",
              "      <td>1.80000</td>\n",
              "      <td>3.00000</td>\n",
              "      <td>8.10000</td>\n",
              "      <td>65.80000</td>\n",
              "    </tr>\n",
              "    <tr>\n",
              "      <th>4</th>\n",
              "      <td>6497.0</td>\n",
              "      <td>0.056034</td>\n",
              "      <td>0.035034</td>\n",
              "      <td>0.00900</td>\n",
              "      <td>0.03800</td>\n",
              "      <td>0.04700</td>\n",
              "      <td>0.06500</td>\n",
              "      <td>0.61100</td>\n",
              "    </tr>\n",
              "    <tr>\n",
              "      <th>5</th>\n",
              "      <td>6497.0</td>\n",
              "      <td>30.525319</td>\n",
              "      <td>17.749400</td>\n",
              "      <td>1.00000</td>\n",
              "      <td>17.00000</td>\n",
              "      <td>29.00000</td>\n",
              "      <td>41.00000</td>\n",
              "      <td>289.00000</td>\n",
              "    </tr>\n",
              "    <tr>\n",
              "      <th>6</th>\n",
              "      <td>6497.0</td>\n",
              "      <td>115.744574</td>\n",
              "      <td>56.521855</td>\n",
              "      <td>6.00000</td>\n",
              "      <td>77.00000</td>\n",
              "      <td>118.00000</td>\n",
              "      <td>156.00000</td>\n",
              "      <td>440.00000</td>\n",
              "    </tr>\n",
              "    <tr>\n",
              "      <th>7</th>\n",
              "      <td>6497.0</td>\n",
              "      <td>0.994697</td>\n",
              "      <td>0.002999</td>\n",
              "      <td>0.98711</td>\n",
              "      <td>0.99234</td>\n",
              "      <td>0.99489</td>\n",
              "      <td>0.99699</td>\n",
              "      <td>1.03898</td>\n",
              "    </tr>\n",
              "    <tr>\n",
              "      <th>8</th>\n",
              "      <td>6497.0</td>\n",
              "      <td>3.218501</td>\n",
              "      <td>0.160787</td>\n",
              "      <td>2.72000</td>\n",
              "      <td>3.11000</td>\n",
              "      <td>3.21000</td>\n",
              "      <td>3.32000</td>\n",
              "      <td>4.01000</td>\n",
              "    </tr>\n",
              "    <tr>\n",
              "      <th>9</th>\n",
              "      <td>6497.0</td>\n",
              "      <td>0.531268</td>\n",
              "      <td>0.148806</td>\n",
              "      <td>0.22000</td>\n",
              "      <td>0.43000</td>\n",
              "      <td>0.51000</td>\n",
              "      <td>0.60000</td>\n",
              "      <td>2.00000</td>\n",
              "    </tr>\n",
              "    <tr>\n",
              "      <th>10</th>\n",
              "      <td>6497.0</td>\n",
              "      <td>10.491801</td>\n",
              "      <td>1.192712</td>\n",
              "      <td>8.00000</td>\n",
              "      <td>9.50000</td>\n",
              "      <td>10.30000</td>\n",
              "      <td>11.30000</td>\n",
              "      <td>14.90000</td>\n",
              "    </tr>\n",
              "    <tr>\n",
              "      <th>11</th>\n",
              "      <td>6497.0</td>\n",
              "      <td>5.818378</td>\n",
              "      <td>0.873255</td>\n",
              "      <td>3.00000</td>\n",
              "      <td>5.00000</td>\n",
              "      <td>6.00000</td>\n",
              "      <td>6.00000</td>\n",
              "      <td>9.00000</td>\n",
              "    </tr>\n",
              "    <tr>\n",
              "      <th>12</th>\n",
              "      <td>6497.0</td>\n",
              "      <td>0.246114</td>\n",
              "      <td>0.430779</td>\n",
              "      <td>0.00000</td>\n",
              "      <td>0.00000</td>\n",
              "      <td>0.00000</td>\n",
              "      <td>0.00000</td>\n",
              "      <td>1.00000</td>\n",
              "    </tr>\n",
              "  </tbody>\n",
              "</table>\n",
              "</div>"
            ],
            "text/plain": [
              "     count        mean        std  ...        50%        75%        max\n",
              "0   6497.0    7.215307   1.296434  ...    7.00000    7.70000   15.90000\n",
              "1   6497.0    0.339666   0.164636  ...    0.29000    0.40000    1.58000\n",
              "2   6497.0    0.318633   0.145318  ...    0.31000    0.39000    1.66000\n",
              "3   6497.0    5.443235   4.757804  ...    3.00000    8.10000   65.80000\n",
              "4   6497.0    0.056034   0.035034  ...    0.04700    0.06500    0.61100\n",
              "5   6497.0   30.525319  17.749400  ...   29.00000   41.00000  289.00000\n",
              "6   6497.0  115.744574  56.521855  ...  118.00000  156.00000  440.00000\n",
              "7   6497.0    0.994697   0.002999  ...    0.99489    0.99699    1.03898\n",
              "8   6497.0    3.218501   0.160787  ...    3.21000    3.32000    4.01000\n",
              "9   6497.0    0.531268   0.148806  ...    0.51000    0.60000    2.00000\n",
              "10  6497.0   10.491801   1.192712  ...   10.30000   11.30000   14.90000\n",
              "11  6497.0    5.818378   0.873255  ...    6.00000    6.00000    9.00000\n",
              "12  6497.0    0.246114   0.430779  ...    0.00000    0.00000    1.00000\n",
              "\n",
              "[13 rows x 8 columns]"
            ]
          },
          "metadata": {
            "tags": []
          },
          "execution_count": 66
        }
      ]
    },
    {
      "cell_type": "code",
      "metadata": {
        "id": "Hvm6QQaj_lqI",
        "outputId": "ab305ee7-ebff-471f-9003-b7c9a3dbe8e9",
        "colab": {
          "base_uri": "https://localhost:8080/"
        }
      },
      "source": [
        "df.values"
      ],
      "execution_count": 67,
      "outputs": [
        {
          "output_type": "execute_result",
          "data": {
            "text/plain": [
              "array([[ 7.4 ,  0.7 ,  0.  , ...,  9.4 ,  5.  ,  1.  ],\n",
              "       [ 7.8 ,  0.88,  0.  , ...,  9.8 ,  5.  ,  1.  ],\n",
              "       [ 7.8 ,  0.76,  0.04, ...,  9.8 ,  5.  ,  1.  ],\n",
              "       ...,\n",
              "       [ 6.5 ,  0.24,  0.19, ...,  9.4 ,  6.  ,  0.  ],\n",
              "       [ 5.5 ,  0.29,  0.3 , ..., 12.8 ,  7.  ,  0.  ],\n",
              "       [ 6.  ,  0.21,  0.38, ..., 11.8 ,  6.  ,  0.  ]])"
            ]
          },
          "metadata": {
            "tags": []
          },
          "execution_count": 67
        }
      ]
    },
    {
      "cell_type": "code",
      "metadata": {
        "id": "Euwh_FitADXo"
      },
      "source": [
        "X, y = df.values[:, :12], df.values[:, 12]"
      ],
      "execution_count": 88,
      "outputs": []
    },
    {
      "cell_type": "code",
      "metadata": {
        "id": "rkNOMST8AW_H",
        "outputId": "5ac89a8a-31a7-42d6-80bc-63e3b12815de",
        "colab": {
          "base_uri": "https://localhost:8080/"
        }
      },
      "source": [
        "model = Sequential()\n",
        "model.add(Dense(30, input_shape=(12,), activation='relu'))\n",
        "model.add(Dense(12, activation='relu'))\n",
        "model.add(Dense(8, activation='relu'))\n",
        "model.add(Dense(1, activation='sigmoid'))\n",
        "model.summary()\n",
        "\n",
        "model.compile(optimizer='adam',\n",
        "              loss = 'binary_crossentropy',\n",
        "              metrics = ['accuracy'])\n",
        "\n",
        "# create directory to store model information\n",
        "MODEL_DIR = './model/'\n",
        "if not os.path.exists (MODEL_DIR):\n",
        "    os.mkdir(MODEL_DIR)"
      ],
      "execution_count": 89,
      "outputs": [
        {
          "output_type": "stream",
          "text": [
            "Model: \"sequential_31\"\n",
            "_________________________________________________________________\n",
            "Layer (type)                 Output Shape              Param #   \n",
            "=================================================================\n",
            "dense_64 (Dense)             (None, 30)                390       \n",
            "_________________________________________________________________\n",
            "dense_65 (Dense)             (None, 12)                372       \n",
            "_________________________________________________________________\n",
            "dense_66 (Dense)             (None, 8)                 104       \n",
            "_________________________________________________________________\n",
            "dense_67 (Dense)             (None, 1)                 9         \n",
            "=================================================================\n",
            "Total params: 875\n",
            "Trainable params: 875\n",
            "Non-trainable params: 0\n",
            "_________________________________________________________________\n"
          ],
          "name": "stdout"
        }
      ]
    },
    {
      "cell_type": "code",
      "metadata": {
        "id": "NZEvE5luBgW4"
      },
      "source": [
        "modelpath = \"./model/{epoch:02d}-{val_loss:.4f}.hdf5\"\n",
        "\n",
        "checkpoiner = ModelCheckpoint(filepath=modelpath,\n",
        "                              monitor='val_loss',\n",
        "                              verbose=1,\n",
        "                              save_best_only=True)\n",
        "early_stopping_callback = EarlyStopping(monitor='val_loss',\n",
        "                                        patience=100)"
      ],
      "execution_count": 90,
      "outputs": []
    },
    {
      "cell_type": "code",
      "metadata": {
        "id": "oHd7gCYEChe-",
        "outputId": "0e926b2c-3ddc-4380-a24f-73c601837c0e",
        "colab": {
          "base_uri": "https://localhost:8080/"
        }
      },
      "source": [
        "\n",
        "history = model.fit(X, y, validation_split=0.2,\n",
        "                    epochs=2000, batch_size=100, verbose=0,\n",
        "                    callbacks = [early_stopping_callback, checkpoiner])"
      ],
      "execution_count": 91,
      "outputs": [
        {
          "output_type": "stream",
          "text": [
            "\n",
            "Epoch 00001: val_loss improved from inf to 0.22386, saving model to ./model/01-0.2239.hdf5\n",
            "\n",
            "Epoch 00002: val_loss improved from 0.22386 to 0.18433, saving model to ./model/02-0.1843.hdf5\n",
            "\n",
            "Epoch 00003: val_loss improved from 0.18433 to 0.13247, saving model to ./model/03-0.1325.hdf5\n",
            "\n",
            "Epoch 00004: val_loss did not improve from 0.13247\n",
            "\n",
            "Epoch 00005: val_loss did not improve from 0.13247\n",
            "\n",
            "Epoch 00006: val_loss improved from 0.13247 to 0.12818, saving model to ./model/06-0.1282.hdf5\n",
            "\n",
            "Epoch 00007: val_loss did not improve from 0.12818\n",
            "\n",
            "Epoch 00008: val_loss did not improve from 0.12818\n",
            "\n",
            "Epoch 00009: val_loss did not improve from 0.12818\n",
            "\n",
            "Epoch 00010: val_loss did not improve from 0.12818\n",
            "\n",
            "Epoch 00011: val_loss improved from 0.12818 to 0.12580, saving model to ./model/11-0.1258.hdf5\n",
            "\n",
            "Epoch 00012: val_loss improved from 0.12580 to 0.11677, saving model to ./model/12-0.1168.hdf5\n",
            "\n",
            "Epoch 00013: val_loss improved from 0.11677 to 0.08576, saving model to ./model/13-0.0858.hdf5\n",
            "\n",
            "Epoch 00014: val_loss improved from 0.08576 to 0.06119, saving model to ./model/14-0.0612.hdf5\n",
            "\n",
            "Epoch 00015: val_loss did not improve from 0.06119\n",
            "\n",
            "Epoch 00016: val_loss improved from 0.06119 to 0.05468, saving model to ./model/16-0.0547.hdf5\n",
            "\n",
            "Epoch 00017: val_loss did not improve from 0.05468\n",
            "\n",
            "Epoch 00018: val_loss did not improve from 0.05468\n",
            "\n",
            "Epoch 00019: val_loss did not improve from 0.05468\n",
            "\n",
            "Epoch 00020: val_loss improved from 0.05468 to 0.04847, saving model to ./model/20-0.0485.hdf5\n",
            "\n",
            "Epoch 00021: val_loss did not improve from 0.04847\n",
            "\n",
            "Epoch 00022: val_loss did not improve from 0.04847\n",
            "\n",
            "Epoch 00023: val_loss did not improve from 0.04847\n",
            "\n",
            "Epoch 00024: val_loss did not improve from 0.04847\n",
            "\n",
            "Epoch 00025: val_loss did not improve from 0.04847\n",
            "\n",
            "Epoch 00026: val_loss improved from 0.04847 to 0.02334, saving model to ./model/26-0.0233.hdf5\n",
            "\n",
            "Epoch 00027: val_loss did not improve from 0.02334\n",
            "\n",
            "Epoch 00028: val_loss did not improve from 0.02334\n",
            "\n",
            "Epoch 00029: val_loss did not improve from 0.02334\n",
            "\n",
            "Epoch 00030: val_loss did not improve from 0.02334\n",
            "\n",
            "Epoch 00031: val_loss did not improve from 0.02334\n",
            "\n",
            "Epoch 00032: val_loss did not improve from 0.02334\n",
            "\n",
            "Epoch 00033: val_loss did not improve from 0.02334\n",
            "\n",
            "Epoch 00034: val_loss did not improve from 0.02334\n",
            "\n",
            "Epoch 00035: val_loss did not improve from 0.02334\n",
            "\n",
            "Epoch 00036: val_loss did not improve from 0.02334\n",
            "\n",
            "Epoch 00037: val_loss did not improve from 0.02334\n",
            "\n",
            "Epoch 00038: val_loss did not improve from 0.02334\n",
            "\n",
            "Epoch 00039: val_loss did not improve from 0.02334\n",
            "\n",
            "Epoch 00040: val_loss improved from 0.02334 to 0.01821, saving model to ./model/40-0.0182.hdf5\n",
            "\n",
            "Epoch 00041: val_loss did not improve from 0.01821\n",
            "\n",
            "Epoch 00042: val_loss did not improve from 0.01821\n",
            "\n",
            "Epoch 00043: val_loss did not improve from 0.01821\n",
            "\n",
            "Epoch 00044: val_loss did not improve from 0.01821\n",
            "\n",
            "Epoch 00045: val_loss did not improve from 0.01821\n",
            "\n",
            "Epoch 00046: val_loss did not improve from 0.01821\n",
            "\n",
            "Epoch 00047: val_loss did not improve from 0.01821\n",
            "\n",
            "Epoch 00048: val_loss did not improve from 0.01821\n",
            "\n",
            "Epoch 00049: val_loss did not improve from 0.01821\n",
            "\n",
            "Epoch 00050: val_loss did not improve from 0.01821\n",
            "\n",
            "Epoch 00051: val_loss did not improve from 0.01821\n",
            "\n",
            "Epoch 00052: val_loss did not improve from 0.01821\n",
            "\n",
            "Epoch 00053: val_loss did not improve from 0.01821\n",
            "\n",
            "Epoch 00054: val_loss did not improve from 0.01821\n",
            "\n",
            "Epoch 00055: val_loss did not improve from 0.01821\n",
            "\n",
            "Epoch 00056: val_loss did not improve from 0.01821\n",
            "\n",
            "Epoch 00057: val_loss did not improve from 0.01821\n",
            "\n",
            "Epoch 00058: val_loss did not improve from 0.01821\n",
            "\n",
            "Epoch 00059: val_loss did not improve from 0.01821\n",
            "\n",
            "Epoch 00060: val_loss did not improve from 0.01821\n",
            "\n",
            "Epoch 00061: val_loss did not improve from 0.01821\n",
            "\n",
            "Epoch 00062: val_loss did not improve from 0.01821\n",
            "\n",
            "Epoch 00063: val_loss did not improve from 0.01821\n",
            "\n",
            "Epoch 00064: val_loss did not improve from 0.01821\n",
            "\n",
            "Epoch 00065: val_loss did not improve from 0.01821\n",
            "\n",
            "Epoch 00066: val_loss did not improve from 0.01821\n",
            "\n",
            "Epoch 00067: val_loss did not improve from 0.01821\n",
            "\n",
            "Epoch 00068: val_loss did not improve from 0.01821\n",
            "\n",
            "Epoch 00069: val_loss did not improve from 0.01821\n",
            "\n",
            "Epoch 00070: val_loss did not improve from 0.01821\n",
            "\n",
            "Epoch 00071: val_loss did not improve from 0.01821\n",
            "\n",
            "Epoch 00072: val_loss did not improve from 0.01821\n",
            "\n",
            "Epoch 00073: val_loss did not improve from 0.01821\n",
            "\n",
            "Epoch 00074: val_loss did not improve from 0.01821\n",
            "\n",
            "Epoch 00075: val_loss did not improve from 0.01821\n",
            "\n",
            "Epoch 00076: val_loss did not improve from 0.01821\n",
            "\n",
            "Epoch 00077: val_loss did not improve from 0.01821\n",
            "\n",
            "Epoch 00078: val_loss did not improve from 0.01821\n",
            "\n",
            "Epoch 00079: val_loss did not improve from 0.01821\n",
            "\n",
            "Epoch 00080: val_loss did not improve from 0.01821\n",
            "\n",
            "Epoch 00081: val_loss did not improve from 0.01821\n",
            "\n",
            "Epoch 00082: val_loss did not improve from 0.01821\n",
            "\n",
            "Epoch 00083: val_loss did not improve from 0.01821\n",
            "\n",
            "Epoch 00084: val_loss did not improve from 0.01821\n",
            "\n",
            "Epoch 00085: val_loss did not improve from 0.01821\n",
            "\n",
            "Epoch 00086: val_loss did not improve from 0.01821\n",
            "\n",
            "Epoch 00087: val_loss did not improve from 0.01821\n",
            "\n",
            "Epoch 00088: val_loss did not improve from 0.01821\n",
            "\n",
            "Epoch 00089: val_loss did not improve from 0.01821\n",
            "\n",
            "Epoch 00090: val_loss did not improve from 0.01821\n",
            "\n",
            "Epoch 00091: val_loss did not improve from 0.01821\n",
            "\n",
            "Epoch 00092: val_loss did not improve from 0.01821\n",
            "\n",
            "Epoch 00093: val_loss did not improve from 0.01821\n",
            "\n",
            "Epoch 00094: val_loss did not improve from 0.01821\n",
            "\n",
            "Epoch 00095: val_loss did not improve from 0.01821\n",
            "\n",
            "Epoch 00096: val_loss did not improve from 0.01821\n",
            "\n",
            "Epoch 00097: val_loss did not improve from 0.01821\n",
            "\n",
            "Epoch 00098: val_loss did not improve from 0.01821\n",
            "\n",
            "Epoch 00099: val_loss did not improve from 0.01821\n",
            "\n",
            "Epoch 00100: val_loss did not improve from 0.01821\n",
            "\n",
            "Epoch 00101: val_loss did not improve from 0.01821\n",
            "\n",
            "Epoch 00102: val_loss did not improve from 0.01821\n",
            "\n",
            "Epoch 00103: val_loss did not improve from 0.01821\n",
            "\n",
            "Epoch 00104: val_loss did not improve from 0.01821\n",
            "\n",
            "Epoch 00105: val_loss did not improve from 0.01821\n",
            "\n",
            "Epoch 00106: val_loss did not improve from 0.01821\n",
            "\n",
            "Epoch 00107: val_loss did not improve from 0.01821\n",
            "\n",
            "Epoch 00108: val_loss did not improve from 0.01821\n",
            "\n",
            "Epoch 00109: val_loss did not improve from 0.01821\n",
            "\n",
            "Epoch 00110: val_loss did not improve from 0.01821\n",
            "\n",
            "Epoch 00111: val_loss did not improve from 0.01821\n",
            "\n",
            "Epoch 00112: val_loss did not improve from 0.01821\n",
            "\n",
            "Epoch 00113: val_loss did not improve from 0.01821\n",
            "\n",
            "Epoch 00114: val_loss did not improve from 0.01821\n",
            "\n",
            "Epoch 00115: val_loss did not improve from 0.01821\n",
            "\n",
            "Epoch 00116: val_loss did not improve from 0.01821\n",
            "\n",
            "Epoch 00117: val_loss did not improve from 0.01821\n",
            "\n",
            "Epoch 00118: val_loss did not improve from 0.01821\n",
            "\n",
            "Epoch 00119: val_loss did not improve from 0.01821\n",
            "\n",
            "Epoch 00120: val_loss did not improve from 0.01821\n",
            "\n",
            "Epoch 00121: val_loss did not improve from 0.01821\n",
            "\n",
            "Epoch 00122: val_loss did not improve from 0.01821\n",
            "\n",
            "Epoch 00123: val_loss did not improve from 0.01821\n",
            "\n",
            "Epoch 00124: val_loss did not improve from 0.01821\n",
            "\n",
            "Epoch 00125: val_loss did not improve from 0.01821\n",
            "\n",
            "Epoch 00126: val_loss did not improve from 0.01821\n",
            "\n",
            "Epoch 00127: val_loss did not improve from 0.01821\n",
            "\n",
            "Epoch 00128: val_loss did not improve from 0.01821\n",
            "\n",
            "Epoch 00129: val_loss did not improve from 0.01821\n",
            "\n",
            "Epoch 00130: val_loss did not improve from 0.01821\n",
            "\n",
            "Epoch 00131: val_loss did not improve from 0.01821\n",
            "\n",
            "Epoch 00132: val_loss did not improve from 0.01821\n",
            "\n",
            "Epoch 00133: val_loss did not improve from 0.01821\n",
            "\n",
            "Epoch 00134: val_loss did not improve from 0.01821\n",
            "\n",
            "Epoch 00135: val_loss did not improve from 0.01821\n",
            "\n",
            "Epoch 00136: val_loss did not improve from 0.01821\n",
            "\n",
            "Epoch 00137: val_loss did not improve from 0.01821\n",
            "\n",
            "Epoch 00138: val_loss did not improve from 0.01821\n",
            "\n",
            "Epoch 00139: val_loss did not improve from 0.01821\n",
            "\n",
            "Epoch 00140: val_loss did not improve from 0.01821\n"
          ],
          "name": "stdout"
        }
      ]
    },
    {
      "cell_type": "code",
      "metadata": {
        "id": "k-5Pr_mbDr5I",
        "outputId": "cac2e9ce-b899-4b05-cac4-20ee62cf1c91",
        "colab": {
          "base_uri": "https://localhost:8080/"
        }
      },
      "source": [
        "history.history.keys()"
      ],
      "execution_count": 92,
      "outputs": [
        {
          "output_type": "execute_result",
          "data": {
            "text/plain": [
              "dict_keys(['loss', 'accuracy', 'val_loss', 'val_accuracy'])"
            ]
          },
          "metadata": {
            "tags": []
          },
          "execution_count": 92
        }
      ]
    },
    {
      "cell_type": "code",
      "metadata": {
        "id": "EN0ACW2cE4N-",
        "outputId": "741ae797-3310-421b-e513-8e224bafa958",
        "colab": {
          "base_uri": "https://localhost:8080/",
          "height": 282
        }
      },
      "source": [
        "y_loss, y_vloss = history.history['loss'], history.history['val_loss']\n",
        "y_acc, y_vacc = history.history['accuracy'], history.history['val_accuracy']\n",
        "\n",
        "plt.subplot(2,2,1)\n",
        "plt.plot(y_loss)\n",
        "plt.subplot(2,2,2)\n",
        "plt.plot(y_vloss)\n",
        "plt.subplot(2,2,3)\n",
        "plt.plot(y_acc)\n",
        "plt.subplot(2,2,4)\n",
        "plt.plot(y_vacc)"
      ],
      "execution_count": 93,
      "outputs": [
        {
          "output_type": "execute_result",
          "data": {
            "text/plain": [
              "[<matplotlib.lines.Line2D at 0x7f4891260390>]"
            ]
          },
          "metadata": {
            "tags": []
          },
          "execution_count": 93
        },
        {
          "output_type": "display_data",
          "data": {
            "image/png": "[encoded data removed]",
            "text/plain": [
              "<Figure size 432x288 with 4 Axes>"
            ]
          },
          "metadata": {
            "tags": [],
            "needs_background": "light"
          }
        }
      ]
    },
    {
      "cell_type": "code",
      "metadata": {
        "id": "tr376RDSFGGX"
      },
      "source": [
        ""
      ],
      "execution_count": null,
      "outputs": []
    }
  ]
}